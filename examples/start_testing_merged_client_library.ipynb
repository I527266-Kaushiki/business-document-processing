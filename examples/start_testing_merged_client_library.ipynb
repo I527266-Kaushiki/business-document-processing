{
 "cells": [
  {
   "cell_type": "code",
   "execution_count": 4,
   "metadata": {},
   "outputs": [
    {
     "name": "stdout",
     "output_type": "stream",
     "text": [
      "C:\\Users\\D070760\\git\\document-classification-client\n"
     ]
    }
   ],
   "source": [
    "%cd .."
   ]
  },
  {
   "cell_type": "code",
   "execution_count": 5,
   "metadata": {},
   "outputs": [
    {
     "name": "stdout",
     "output_type": "stream",
     "text": [
      "running sdist\n",
      "running check\n",
      "writing manifest file 'MANIFEST'\n",
      "creating sap-business-document-processing-0.1.0\n",
      "creating sap-business-document-processing-0.1.0\\sap_business_document_processing\n",
      "making hard links in sap-business-document-processing-0.1.0...\n",
      "hard linking setup.cfg -> sap-business-document-processing-0.1.0\n",
      "hard linking setup.py -> sap-business-document-processing-0.1.0\n",
      "hard linking sap_business_document_processing\\__init__.py -> sap-business-document-processing-0.1.0\\sap_business_document_processing\n",
      "creating dist\n",
      "Creating tar archive\n",
      "removing 'sap-business-document-processing-0.1.0' (and everything under it)\n"
     ]
    },
    {
     "name": "stderr",
     "output_type": "stream",
     "text": [
      "C:\\Users\\D070760\\Anaconda3\\lib\\distutils\\dist.py:274: UserWarning: Unknown distribution option: 'install_requires'\n",
      "  warnings.warn(msg)\n",
      "warning: sdist: manifest template 'MANIFEST.in' does not exist (using default file list)\n",
      "\n",
      "warning: sdist: standard file not found: should have one of README, README.txt, README.rst\n",
      "\n"
     ]
    }
   ],
   "source": [
    "# Made some changes here to make it work, we should still discuss what goes in there in the end\n",
    "!python setup.py sdist"
   ]
  },
  {
   "cell_type": "code",
   "execution_count": 9,
   "metadata": {},
   "outputs": [],
   "source": [
    "from sap_business_document_processing import DCApiClient, DoxApiClient"
   ]
  },
  {
   "cell_type": "code",
   "execution_count": 11,
   "metadata": {},
   "outputs": [],
   "source": [
    "service_key = {\n",
    "  \"url\": \"https://aiservices-trial-dox.cfapps.eu10.hana.ondemand.com\",\n",
    "  \"uaa\": {\n",
    "    \"tenantmode\": \"shared\",\n",
    "    \"sburl\": \"https://internal-xsuaa.authentication.eu10.hana.ondemand.com\",\n",
    "    \"subaccountid\": \"11939619-af01-4a8c-bda5-8e5435280791\",\n",
    "    \"clientid\": \"sb-15d327e4-af3a-471e-a5fd-05b51fb3a9b8!b76941|na-9e50499f-78dd-40ca-ad8d-60acf02cff8b!b30417\",\n",
    "    \"xsappname\": \"15d327e4-af3a-471e-a5fd-05b51fb3a9b8!b76941|na-9e50499f-78dd-40ca-ad8d-60acf02cff8b!b30417\",\n",
    "    \"clientsecret\": \"e6TnWWQC5yj2NGi7mE/QEslNTQM=\",\n",
    "    \"url\": \"https://bee89f2ctrial.authentication.eu10.hana.ondemand.com\",\n",
    "    \"uaadomain\": \"authentication.eu10.hana.ondemand.com\",\n",
    "    \"verificationkey\": \"-----BEGIN PUBLIC KEY-----MIIBIjANBgkqhkiG9w0BAQEFAAOCAQ8AMIIBCgKCAQEAt4W3fOLGXUJn7n5lDqidj63AdwMP/MGR9Y7Jv6ZmSYAgvZPD2usA1l5vlDBfCbFS+2SDVCZfHTkspIpXv5tKQvVQ9V3NFQsJt+xReIb+5Rk3RSQFv7+B7OkhmZjCYJvBIftF2mInM16GJ1FgsK2lJt1rH2GfOna7inenbktiI5/gBYiXq/68lP/XgIeRf3hOaigasm3zsr4EEd+qxlzCB0ryK8EvRYXqYzIELLkRiZtg+iCz59RZGZnUZ29aTfF+4mZbzh+R/cAHL1uNmg5jOIr9fuZfQ3l8vYppGaay1i1A6vzNJU/QDMd1619ss6qg1MkPKyeHXZtHriOKGqLl8wIDAQAB-----END PUBLIC KEY-----\",\n",
    "    \"apiurl\": \"https://api.authentication.eu10.hana.ondemand.com\",\n",
    "    \"identityzone\": \"bee89f2ctrial\",\n",
    "    \"identityzoneid\": \"11939619-af01-4a8c-bda5-8e5435280791\",\n",
    "    \"tenantid\": \"11939619-af01-4a8c-bda5-8e5435280791\",\n",
    "    \"zoneid\": \"11939619-af01-4a8c-bda5-8e5435280791\"\n",
    "  },\n",
    "  \"swagger\": \"/document-information-extraction/v1/\"\n",
    "}"
   ]
  },
  {
   "cell_type": "code",
   "execution_count": 12,
   "metadata": {},
   "outputs": [],
   "source": [
    "dox_client = DoxApiClient(service_key['url'], service_key['uaa']['clientid'], service_key['uaa']['clientsecret'], service_key['uaa']['url'])"
   ]
  },
  {
   "cell_type": "code",
   "execution_count": 13,
   "metadata": {},
   "outputs": [
    {
     "data": {
      "text/plain": [
       "{'extraction': {'headerFields': [{'name': 'barcode',\n",
       "    'type': 'string',\n",
       "    'category': 'details',\n",
       "    'supportedDocumentTypes': ['invoice']},\n",
       "   {'name': 'documentNumber',\n",
       "    'type': 'string',\n",
       "    'category': 'document',\n",
       "    'supportedDocumentTypes': ['invoice', 'paymentAdvice']},\n",
       "   {'name': 'taxId',\n",
       "    'type': 'string',\n",
       "    'category': 'amounts',\n",
       "    'supportedDocumentTypes': ['invoice']},\n",
       "   {'name': 'taxName',\n",
       "    'type': 'string',\n",
       "    'category': 'amounts',\n",
       "    'supportedDocumentTypes': ['invoice']},\n",
       "   {'name': 'purchaseOrderNumber',\n",
       "    'type': 'string',\n",
       "    'category': 'details',\n",
       "    'supportedDocumentTypes': ['invoice']},\n",
       "   {'name': 'shippingAmount',\n",
       "    'type': 'number',\n",
       "    'category': 'amounts',\n",
       "    'supportedDocumentTypes': ['invoice']},\n",
       "   {'name': 'netAmount',\n",
       "    'type': 'number',\n",
       "    'category': 'amounts',\n",
       "    'supportedDocumentTypes': ['invoice']},\n",
       "   {'name': 'grossAmount',\n",
       "    'type': 'number',\n",
       "    'category': 'amounts',\n",
       "    'supportedDocumentTypes': ['invoice', 'paymentAdvice']},\n",
       "   {'name': 'currencyCode',\n",
       "    'type': 'string',\n",
       "    'category': 'amounts',\n",
       "    'supportedDocumentTypes': ['invoice', 'paymentAdvice']},\n",
       "   {'name': 'receiverContact',\n",
       "    'type': 'string',\n",
       "    'category': 'receiver',\n",
       "    'supportedDocumentTypes': ['invoice']},\n",
       "   {'name': 'documentDate',\n",
       "    'type': 'date',\n",
       "    'category': 'document',\n",
       "    'supportedDocumentTypes': ['invoice', 'paymentAdvice']},\n",
       "   {'name': 'taxAmount',\n",
       "    'type': 'number',\n",
       "    'category': 'amounts',\n",
       "    'supportedDocumentTypes': ['invoice']},\n",
       "   {'name': 'taxRate',\n",
       "    'type': 'number',\n",
       "    'category': 'amounts',\n",
       "    'supportedDocumentTypes': ['invoice']},\n",
       "   {'name': 'receiverName',\n",
       "    'type': 'string',\n",
       "    'category': 'receiver',\n",
       "    'supportedDocumentTypes': ['invoice']},\n",
       "   {'name': 'receiverAddress',\n",
       "    'type': 'string',\n",
       "    'category': 'receiver',\n",
       "    'supportedDocumentTypes': ['invoice']},\n",
       "   {'name': 'receiverTaxId',\n",
       "    'type': 'string',\n",
       "    'category': 'receiver',\n",
       "    'supportedDocumentTypes': ['invoice']},\n",
       "   {'name': 'deliveryDate',\n",
       "    'type': 'date',\n",
       "    'category': 'shipTo',\n",
       "    'supportedDocumentTypes': ['invoice']},\n",
       "   {'name': 'paymentTerms',\n",
       "    'type': 'string',\n",
       "    'category': 'payment',\n",
       "    'supportedDocumentTypes': ['invoice']},\n",
       "   {'name': 'deliveryNoteNumber',\n",
       "    'type': 'string',\n",
       "    'category': 'shipTo',\n",
       "    'supportedDocumentTypes': ['invoice']},\n",
       "   {'name': 'senderBankAccount',\n",
       "    'type': 'string',\n",
       "    'category': 'sender',\n",
       "    'supportedDocumentTypes': ['invoice']},\n",
       "   {'name': 'senderAddress',\n",
       "    'type': 'string',\n",
       "    'category': 'sender',\n",
       "    'supportedDocumentTypes': ['invoice']},\n",
       "   {'name': 'senderName',\n",
       "    'type': 'string',\n",
       "    'category': 'sender',\n",
       "    'supportedDocumentTypes': ['invoice', 'paymentAdvice']},\n",
       "   {'name': 'dueDate',\n",
       "    'type': 'date',\n",
       "    'category': 'payment',\n",
       "    'supportedDocumentTypes': ['invoice']},\n",
       "   {'name': 'discount',\n",
       "    'type': 'string',\n",
       "    'category': 'payment',\n",
       "    'supportedDocumentTypes': ['invoice']}],\n",
       "  'lineItemFields': [{'name': 'description',\n",
       "    'type': 'string',\n",
       "    'category': 'details',\n",
       "    'supportedDocumentTypes': ['invoice']},\n",
       "   {'name': 'netAmount',\n",
       "    'type': 'number',\n",
       "    'category': 'amounts',\n",
       "    'supportedDocumentTypes': ['invoice', 'paymentAdvice']},\n",
       "   {'name': 'quantity',\n",
       "    'type': 'number',\n",
       "    'category': 'details',\n",
       "    'supportedDocumentTypes': ['invoice']},\n",
       "   {'name': 'unitPrice',\n",
       "    'type': 'number',\n",
       "    'category': 'details',\n",
       "    'supportedDocumentTypes': ['invoice']},\n",
       "   {'name': 'materialNumber',\n",
       "    'type': 'string',\n",
       "    'category': 'details',\n",
       "    'supportedDocumentTypes': ['invoice']},\n",
       "   {'name': 'documentNumber',\n",
       "    'type': 'string',\n",
       "    'category': 'document',\n",
       "    'supportedDocumentTypes': ['paymentAdvice']},\n",
       "   {'name': 'documentDate',\n",
       "    'type': 'date',\n",
       "    'category': 'document',\n",
       "    'supportedDocumentTypes': ['paymentAdvice']},\n",
       "   {'name': 'discountAmount',\n",
       "    'type': 'number',\n",
       "    'category': 'amounts',\n",
       "    'supportedDocumentTypes': ['paymentAdvice']},\n",
       "   {'name': 'deductionAmount',\n",
       "    'type': 'number',\n",
       "    'category': 'amounts',\n",
       "    'supportedDocumentTypes': ['paymentAdvice']},\n",
       "   {'name': 'unitOfMeasure',\n",
       "    'type': 'string',\n",
       "    'category': 'details',\n",
       "    'supportedDocumentTypes': ['invoice']}]},\n",
       " 'enrichment': {'employee': {'dataTypes': ['employee']},\n",
       "  'sender': {'dataTypes': ['businessEntity']},\n",
       "  'receiver': {'dataTypes': ['businessEntity']}},\n",
       " 'documentTypes': ['invoice', 'paymentAdvice']}"
      ]
     },
     "execution_count": 13,
     "metadata": {},
     "output_type": "execute_result"
    }
   ],
   "source": [
    "dox_client.get_capabilities()"
   ]
  },
  {
   "cell_type": "code",
   "execution_count": 14,
   "metadata": {},
   "outputs": [
    {
     "data": {
      "text/plain": [
       "[{'clientId': 'c_00', 'clientName': 'Client 00'},\n",
       " {'clientId': 'default', 'clientName': 'Default'}]"
      ]
     },
     "execution_count": 14,
     "metadata": {},
     "output_type": "execute_result"
    }
   ],
   "source": [
    "dox_client.get_clients()"
   ]
  },
  {
   "cell_type": "code",
   "execution_count": null,
   "metadata": {},
   "outputs": [],
   "source": []
  }
 ],
 "metadata": {
  "kernelspec": {
   "display_name": "Python 3",
   "language": "python",
   "name": "python3"
  },
  "language_info": {
   "codemirror_mode": {
    "name": "ipython",
    "version": 3
   },
   "file_extension": ".py",
   "mimetype": "text/x-python",
   "name": "python",
   "nbconvert_exporter": "python",
   "pygments_lexer": "ipython3",
   "version": "3.8.3"
  }
 },
 "nbformat": 4,
 "nbformat_minor": 4
}
