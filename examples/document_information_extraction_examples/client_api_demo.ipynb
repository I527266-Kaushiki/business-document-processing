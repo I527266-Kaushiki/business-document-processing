{
 "cells": [
  {
   "cell_type": "markdown",
   "metadata": {},
   "source": [
    "# Document Information Extraction Demo"
   ]
  },
  {
   "cell_type": "markdown",
   "metadata": {},
   "source": [
    "This notebook is designed to demonstrate how to easily consume the SAP AI Business Services - Document Information Extraction service. In this demo, we first create a new client to then use the service to extract data from an example invoice."
   ]
  },
  {
   "cell_type": "markdown",
   "metadata": {},
   "source": [
    "## Fetch python module"
   ]
  },
  {
   "cell_type": "markdown",
   "metadata": {},
   "source": [
    "This notebook requires the python package containing the client."
   ]
  },
  {
   "cell_type": "code",
   "execution_count": 7,
   "metadata": {},
   "outputs": [],
   "source": [
    "# import from PyPI when available\n",
    "# !pip install ..."
   ]
  },
  {
   "cell_type": "markdown",
   "metadata": {},
   "source": [
    "## Settings"
   ]
  },
  {
   "cell_type": "markdown",
   "metadata": {},
   "source": [
    "The settings require a valid service key for the Document Information Extraction service on SAP Cloud Plattform."
   ]
  },
  {
   "cell_type": "markdown",
   "metadata": {},
   "source": [
    "The keys in the service key needed here are named exactly as the variables, specifically:\n",
    "\n",
    "- url: The URL of the service deployment provided in the outermost hierachy of the service key json file\n",
    "- uaa_url: The URL of the UAA server used for authentication provided in the uaa of the service key json file\n",
    "- uaa_clientid: The clientid used for authentication to the UAA server provided in the uaa of the service key json file\n",
    "- uaa_clientsecret: The clientsecret used for authentication to the UAA server provided in the uaa of the service key json file"
   ]
  },
  {
   "cell_type": "code",
   "execution_count": 122,
   "metadata": {},
   "outputs": [],
   "source": [
    "service_key = {\n",
    "  \"url\": \"https://aiservices-trial-dox.cfapps.eu10.hana.ondemand.com\",\n",
    "  \"uaa\": {\n",
    "    \"tenantmode\": \"shared\",\n",
    "    \"sburl\": \"https://internal-xsuaa.authentication.eu10.hana.ondemand.com\",\n",
    "    \"subaccountid\": \"11939619-af01-4a8c-bda5-8e5435280791\",\n",
    "    \"clientid\": \"sb-15d327e4-af3a-471e-a5fd-05b51fb3a9b8!b76941|na-9e50499f-78dd-40ca-ad8d-60acf02cff8b!b30417\",\n",
    "    \"xsappname\": \"15d327e4-af3a-471e-a5fd-05b51fb3a9b8!b76941|na-9e50499f-78dd-40ca-ad8d-60acf02cff8b!b30417\",\n",
    "    \"clientsecret\": \"e6TnWWQC5yj2NGi7mE/QEslNTQM=\",\n",
    "    \"url\": \"https://bee89f2ctrial.authentication.eu10.hana.ondemand.com\",\n",
    "    \"uaadomain\": \"authentication.eu10.hana.ondemand.com\",\n",
    "    \"verificationkey\": \"-----BEGIN PUBLIC KEY-----MIIBIjANBgkqhkiG9w0BAQEFAAOCAQ8AMIIBCgKCAQEAt4W3fOLGXUJn7n5lDqidj63AdwMP/MGR9Y7Jv6ZmSYAgvZPD2usA1l5vlDBfCbFS+2SDVCZfHTkspIpXv5tKQvVQ9V3NFQsJt+xReIb+5Rk3RSQFv7+B7OkhmZjCYJvBIftF2mInM16GJ1FgsK2lJt1rH2GfOna7inenbktiI5/gBYiXq/68lP/XgIeRf3hOaigasm3zsr4EEd+qxlzCB0ryK8EvRYXqYzIELLkRiZtg+iCz59RZGZnUZ29aTfF+4mZbzh+R/cAHL1uNmg5jOIr9fuZfQ3l8vYppGaay1i1A6vzNJU/QDMd1619ss6qg1MkPKyeHXZtHriOKGqLl8wIDAQAB-----END PUBLIC KEY-----\",\n",
    "    \"apiurl\": \"https://api.authentication.eu10.hana.ondemand.com\",\n",
    "    \"identityzone\": \"bee89f2ctrial\",\n",
    "    \"identityzoneid\": \"11939619-af01-4a8c-bda5-8e5435280791\",\n",
    "    \"tenantid\": \"11939619-af01-4a8c-bda5-8e5435280791\",\n",
    "    \"zoneid\": \"11939619-af01-4a8c-bda5-8e5435280791\"\n",
    "  },\n",
    "  \"swagger\": \"/document-information-extraction/v1/\"\n",
    "}\n",
    "url = service_key['url']\n",
    "client_id = service_key['uaa']['clientid']\n",
    "client_secret = service_key['uaa']['clientsecret']\n",
    "uaa_url = service_key['uaa']['url']"
   ]
  },
  {
   "cell_type": "markdown",
   "metadata": {},
   "source": [
    "## Initialize Demo"
   ]
  },
  {
   "cell_type": "code",
   "execution_count": 123,
   "metadata": {},
   "outputs": [],
   "source": [
    "# Import DOX API client\n",
    "import sys\n",
    "sys.path.insert(1,'../../')\n",
    "from sap_business_document_processing import DoxApiClient\n",
    "import json"
   ]
  },
  {
   "cell_type": "code",
   "execution_count": 124,
   "metadata": {},
   "outputs": [],
   "source": [
    "# Instantiate object used to communicate with Document Information Extraction REST API\n",
    "api_client = DoxApiClient(url, client_id, client_secret, uaa_url)"
   ]
  },
  {
   "cell_type": "markdown",
   "metadata": {},
   "source": [
    "## Display access token"
   ]
  },
  {
   "cell_type": "code",
   "execution_count": 125,
   "metadata": {},
   "outputs": [
    {
     "name": "stdout",
     "output_type": "stream",
     "text": [
      "{'access_token': 'eyJhbGciOiJSUzI1NiIsImprdSI6Imh0dHBzOi8vYmVlODlmMmN0cmlhbC5hdXRoZW50aWNhdGlvbi5ldTEwLmhhbmEub25kZW1hbmQuY29tL3Rva2VuX2tleXMiLCJraWQiOiJkZWZhdWx0LWp3dC1rZXktNzcwMTI5NjY1IiwidHlwIjoiSldUIn0.eyJqdGkiOiIxYzc1NDIzMDYyN2E0Njk3ODI3NTU1YzU5YzA2YjA5OCIsImV4dF9hdHRyIjp7ImVuaGFuY2VyIjoiWFNVQUEiLCJzdWJhY2NvdW50aWQiOiIxMTkzOTYxOS1hZjAxLTRhOGMtYmRhNS04ZTU0MzUyODA3OTEiLCJ6ZG4iOiJiZWU4OWYyY3RyaWFsIiwic2VydmljZWluc3RhbmNlaWQiOiIxNWQzMjdlNC1hZjNhLTQ3MWUtYTVmZC0wNWI1MWZiM2E5YjgifSwic3ViIjoic2ItMTVkMzI3ZTQtYWYzYS00NzFlLWE1ZmQtMDViNTFmYjNhOWI4IWI3Njk0MXxuYS05ZTUwNDk5Zi03OGRkLTQwY2EtYWQ4ZC02MGFjZjAyY2ZmOGIhYjMwNDE3IiwiYXV0aG9yaXRpZXMiOlsidWFhLnJlc291cmNlIiwibmEtOWU1MDQ5OWYtNzhkZC00MGNhLWFkOGQtNjBhY2YwMmNmZjhiIWIzMDQxNy50ZWNobmljYWxzY29wZSJdLCJzY29wZSI6WyJ1YWEucmVzb3VyY2UiLCJuYS05ZTUwNDk5Zi03OGRkLTQwY2EtYWQ4ZC02MGFjZjAyY2ZmOGIhYjMwNDE3LnRlY2huaWNhbHNjb3BlIl0sImNsaWVudF9pZCI6InNiLTE1ZDMyN2U0LWFmM2EtNDcxZS1hNWZkLTA1YjUxZmIzYTliOCFiNzY5NDF8bmEtOWU1MDQ5OWYtNzhkZC00MGNhLWFkOGQtNjBhY2YwMmNmZjhiIWIzMDQxNyIsImNpZCI6InNiLTE1ZDMyN2U0LWFmM2EtNDcxZS1hNWZkLTA1YjUxZmIzYTliOCFiNzY5NDF8bmEtOWU1MDQ5OWYtNzhkZC00MGNhLWFkOGQtNjBhY2YwMmNmZjhiIWIzMDQxNyIsImF6cCI6InNiLTE1ZDMyN2U0LWFmM2EtNDcxZS1hNWZkLTA1YjUxZmIzYTliOCFiNzY5NDF8bmEtOWU1MDQ5OWYtNzhkZC00MGNhLWFkOGQtNjBhY2YwMmNmZjhiIWIzMDQxNyIsImdyYW50X3R5cGUiOiJjbGllbnRfY3JlZGVudGlhbHMiLCJyZXZfc2lnIjoiOWI3MjI0MTgiLCJpYXQiOjE2MTk3MTE1OTEsImV4cCI6MTYxOTc1NDc5MSwiaXNzIjoiaHR0cHM6Ly9iZWU4OWYyY3RyaWFsLmF1dGhlbnRpY2F0aW9uLmV1MTAuaGFuYS5vbmRlbWFuZC5jb20vb2F1dGgvdG9rZW4iLCJ6aWQiOiIxMTkzOTYxOS1hZjAxLTRhOGMtYmRhNS04ZTU0MzUyODA3OTEiLCJhdWQiOlsidWFhIiwic2ItMTVkMzI3ZTQtYWYzYS00NzFlLWE1ZmQtMDViNTFmYjNhOWI4IWI3Njk0MXxuYS05ZTUwNDk5Zi03OGRkLTQwY2EtYWQ4ZC02MGFjZjAyY2ZmOGIhYjMwNDE3IiwibmEtOWU1MDQ5OWYtNzhkZC00MGNhLWFkOGQtNjBhY2YwMmNmZjhiIWIzMDQxNyJdfQ.fia7jJ23k1Din8PoiJ9w-SbJ-whKh7NJmvAWmjipHh7nhIztlKELPyUL4m-plp5GCTQViTynM2uWAaKchT1JJtpcZueQo3WNNHFyc8xa8e9SdLOeYHoLQA_MaW8FanqvgM65kU4oLAPGl606zaJ2dD8-t8AOF2yLG9KqoRclyyoxo1LBs9rm_P7EwQhk4tpk2MUPokhEJNb6ujS53d2b12hOuFK1q4yKtxdosV6IEvUiVs9TNTVV1VJyr0NJ8mQOn308u1Dt6Z6ePiA5ViipgNblLzQtzA2tzaos1OW-h015wEMf3rBA5FNp9PkKUqnesDZWiEjkXr5Qf_KVq3xKyw', 'token_type': 'bearer', 'expires_in': 43199, 'scope': ['uaa.resource', 'na-9e50499f-78dd-40ca-ad8d-60acf02cff8b!b30417.technicalscope'], 'jti': '1c754230627a4697827555c59c06b098', 'expires_at': 1619754790.5509763}\n",
      "\n",
      "You can use this token to Authorize here and explore the API via Swagger UI: \n",
      "https://aiservices-trial-dox.cfapps.eu10.hana.ondemand.com/document-information-extraction/v1/\n"
     ]
    }
   ],
   "source": [
    "# Token can be used to interact with e.g. swagger UI to explore DOX API\n",
    "print(api_client.session.token)\n",
    "print(f\"\\nYou can use this token to Authorize here and explore the API via Swagger UI: \\n{api_client.base_url}\")"
   ]
  },
  {
   "cell_type": "markdown",
   "metadata": {},
   "source": [
    "## See list of document fields you can extract"
   ]
  },
  {
   "cell_type": "code",
   "execution_count": 126,
   "metadata": {},
   "outputs": [
    {
     "name": "stdout",
     "output_type": "stream",
     "text": [
      "Available document types: ['invoice', 'paymentAdvice']\n",
      "Available extraction fields:\n",
      "for 'invoice':\n",
      "\tHeader fields:\n",
      "\t\t documentNumber\n",
      "\t\t taxId\n",
      "\t\t taxName\n",
      "\t\t purchaseOrderNumber\n",
      "\t\t shippingAmount\n",
      "\t\t netAmount\n",
      "\t\t grossAmount\n",
      "\t\t currencyCode\n",
      "\t\t receiverContact\n",
      "\t\t documentDate\n",
      "\t\t taxAmount\n",
      "\t\t taxRate\n",
      "\t\t receiverName\n",
      "\t\t receiverAddress\n",
      "\t\t receiverTaxId\n",
      "\t\t deliveryDate\n",
      "\t\t paymentTerms\n",
      "\t\t deliveryNoteNumber\n",
      "\t\t senderBankAccount\n",
      "\t\t senderAddress\n",
      "\t\t senderName\n",
      "\t\t dueDate\n",
      "\t\t discount\n",
      "\t\t barcode\n",
      "\tLine item fields:\n",
      "\t\t description\n",
      "\t\t netAmount\n",
      "\t\t quantity\n",
      "\t\t unitPrice\n",
      "\t\t materialNumber\n",
      "\t\t unitOfMeasure\n",
      "for 'paymentAdvice':\n",
      "\tHeader fields:\n",
      "\t\t documentNumber\n",
      "\t\t grossAmount\n",
      "\t\t currencyCode\n",
      "\t\t documentDate\n",
      "\t\t senderName\n",
      "\tLine item fields:\n",
      "\t\t netAmount\n",
      "\t\t documentNumber\n",
      "\t\t documentDate\n",
      "\t\t discountAmount\n",
      "\t\t deductionAmount\n"
     ]
    }
   ],
   "source": [
    "# Get the fields and document types that can be used\n",
    "capabilities = api_client.get_capabilities()\n",
    "data_types = capabilities['documentTypes']\n",
    "print('Available document types:', data_types)\n",
    "print('Available extraction fields:')\n",
    "for data_type in data_types:\n",
    "    print(f\"for '{data_type}':\")\n",
    "    print('\\tHeader fields:')\n",
    "    [print('\\t\\t', hf['name']) for hf in capabilities['extraction']['headerFields'] if (data_type in hf['supportedDocumentTypes'])]\n",
    "    print('\\tLine item fields:')\n",
    "    [print('\\t\\t', li['name']) for li in capabilities['extraction']['lineItemFields'] if (data_type in li['supportedDocumentTypes'])]"
   ]
  },
  {
   "cell_type": "markdown",
   "metadata": {},
   "source": [
    "# (optional) Create a Client"
   ]
  },
  {
   "cell_type": "markdown",
   "metadata": {},
   "source": [
    "To use Document Information Extraction, you need a client. This client is used to distinguish and separate data. You can create a new client if you wish to perform the information extraction with a separate client."
   ]
  },
  {
   "cell_type": "code",
   "execution_count": 131,
   "metadata": {
    "scrolled": true
   },
   "outputs": [
    {
     "data": {
      "text/plain": [
       "[]"
      ]
     },
     "execution_count": 131,
     "metadata": {},
     "output_type": "execute_result"
    }
   ],
   "source": [
    "# Check which clients exist for this tenant\n",
    "api_client.get_clients()"
   ]
  },
  {
   "cell_type": "code",
   "execution_count": 91,
   "metadata": {
    "scrolled": false
   },
   "outputs": [
    {
     "name": "stderr",
     "output_type": "stream",
     "text": [
      "POST request to URL https://aiservices-trial-dox.cfapps.eu10.hana.ondemand.com/document-information-extraction/v1/clients failed with body: {\"error\": {\"code\": \"E102\", \"message\": \"Request exceeds trial account quotas.\", \"details\": []}}\n",
      "\n"
     ]
    },
    {
     "ename": "BDPClientException",
     "evalue": "{'error': {'code': 'E102', 'message': 'Request exceeds trial account quotas.', 'details': []}}",
     "output_type": "error",
     "traceback": [
      "\u001b[1;31m---------------------------------------------------------------------------\u001b[0m",
      "\u001b[1;31mBDPClientException\u001b[0m                        Traceback (most recent call last)",
      "\u001b[1;32m<ipython-input-91-4a35c4708a4f>\u001b[0m in \u001b[0;36m<module>\u001b[1;34m\u001b[0m\n\u001b[0;32m      1\u001b[0m \u001b[1;31m# Create a new client with the id 'c_00' and name 'Client 00'\u001b[0m\u001b[1;33m\u001b[0m\u001b[1;33m\u001b[0m\u001b[1;33m\u001b[0m\u001b[0m\n\u001b[1;32m----> 2\u001b[1;33m \u001b[0mapi_client\u001b[0m\u001b[1;33m.\u001b[0m\u001b[0mcreate_client\u001b[0m\u001b[1;33m(\u001b[0m\u001b[0mclient_id\u001b[0m\u001b[1;33m=\u001b[0m\u001b[1;34m'c_00'\u001b[0m\u001b[1;33m,\u001b[0m \u001b[0mclient_name\u001b[0m\u001b[1;33m=\u001b[0m\u001b[1;34m'Client 00'\u001b[0m\u001b[1;33m)\u001b[0m\u001b[1;33m\u001b[0m\u001b[1;33m\u001b[0m\u001b[0m\n\u001b[0m",
      "\u001b[1;32m~\\git\\business-document-processing\\sap_business_document_processing\\document_information_extraction_client\\dox_api_client.py\u001b[0m in \u001b[0;36mcreate_client\u001b[1;34m(self, client_id, client_name)\u001b[0m\n\u001b[0;32m     81\u001b[0m         \u001b[1;33m:\u001b[0m\u001b[1;32mreturn\u001b[0m\u001b[1;33m:\u001b[0m \u001b[0mThe\u001b[0m \u001b[0mAPI\u001b[0m \u001b[0mendpoint\u001b[0m \u001b[0mresponse\u001b[0m \u001b[1;32mas\u001b[0m \u001b[0mdictionary\u001b[0m\u001b[1;33m\u001b[0m\u001b[1;33m\u001b[0m\u001b[0m\n\u001b[0;32m     82\u001b[0m         \"\"\"\n\u001b[1;32m---> 83\u001b[1;33m         return self.create_clients([{\n\u001b[0m\u001b[0;32m     84\u001b[0m             \u001b[0mAPI_FIELD_CLIENT_ID\u001b[0m\u001b[1;33m:\u001b[0m \u001b[0mclient_id\u001b[0m\u001b[1;33m,\u001b[0m\u001b[1;33m\u001b[0m\u001b[1;33m\u001b[0m\u001b[0m\n\u001b[0;32m     85\u001b[0m             \u001b[0mAPI_FIELD_CLIENT_NAME\u001b[0m\u001b[1;33m:\u001b[0m \u001b[0mclient_name\u001b[0m\u001b[1;33m\u001b[0m\u001b[1;33m\u001b[0m\u001b[0m\n",
      "\u001b[1;32m~\\git\\business-document-processing\\sap_business_document_processing\\document_information_extraction_client\\dox_api_client.py\u001b[0m in \u001b[0;36mcreate_clients\u001b[1;34m(self, clients)\u001b[0m\n\u001b[0;32m     92\u001b[0m         \u001b[1;33m:\u001b[0m\u001b[1;32mreturn\u001b[0m\u001b[1;33m:\u001b[0m \u001b[0mThe\u001b[0m \u001b[0mAPI\u001b[0m \u001b[0mendpoint\u001b[0m \u001b[0mresponse\u001b[0m \u001b[1;32mas\u001b[0m \u001b[0mdictionary\u001b[0m\u001b[1;33m\u001b[0m\u001b[1;33m\u001b[0m\u001b[0m\n\u001b[0;32m     93\u001b[0m         \"\"\"\n\u001b[1;32m---> 94\u001b[1;33m         response = self.post(CLIENT_ENDPOINT, json={API_FIELD_VALUE: clients},\n\u001b[0m\u001b[0;32m     95\u001b[0m                              \u001b[0mlog_msg_before\u001b[0m\u001b[1;33m=\u001b[0m\u001b[1;34mf'Creating {len(clients)} clients'\u001b[0m\u001b[1;33m,\u001b[0m\u001b[1;33m\u001b[0m\u001b[1;33m\u001b[0m\u001b[0m\n\u001b[0;32m     96\u001b[0m                              log_msg_after=f'Successfully created {len(clients)} clients')\n",
      "\u001b[1;32m~\\git\\business-document-processing\\sap_business_document_processing\\common\\http_client_base.py\u001b[0m in \u001b[0;36mpost\u001b[1;34m(self, path, validate, **kwargs)\u001b[0m\n\u001b[0;32m    137\u001b[0m \u001b[1;33m\u001b[0m\u001b[0m\n\u001b[0;32m    138\u001b[0m     \u001b[1;32mdef\u001b[0m \u001b[0mpost\u001b[0m\u001b[1;33m(\u001b[0m\u001b[0mself\u001b[0m\u001b[1;33m,\u001b[0m \u001b[0mpath\u001b[0m\u001b[1;33m:\u001b[0m \u001b[0mstr\u001b[0m\u001b[1;33m,\u001b[0m \u001b[0mvalidate\u001b[0m\u001b[1;33m=\u001b[0m\u001b[1;32mTrue\u001b[0m\u001b[1;33m,\u001b[0m \u001b[1;33m**\u001b[0m\u001b[0mkwargs\u001b[0m\u001b[1;33m)\u001b[0m\u001b[1;33m:\u001b[0m\u001b[1;33m\u001b[0m\u001b[1;33m\u001b[0m\u001b[0m\n\u001b[1;32m--> 139\u001b[1;33m         \u001b[1;32mreturn\u001b[0m \u001b[0mself\u001b[0m\u001b[1;33m.\u001b[0m\u001b[0m_request\u001b[0m\u001b[1;33m(\u001b[0m\u001b[0mself\u001b[0m\u001b[1;33m.\u001b[0m\u001b[0msession\u001b[0m\u001b[1;33m.\u001b[0m\u001b[0mpost\u001b[0m\u001b[1;33m,\u001b[0m \u001b[0mpath\u001b[0m\u001b[1;33m,\u001b[0m \u001b[0mvalidate\u001b[0m\u001b[1;33m,\u001b[0m \u001b[1;33m**\u001b[0m\u001b[0mkwargs\u001b[0m\u001b[1;33m)\u001b[0m\u001b[1;33m\u001b[0m\u001b[1;33m\u001b[0m\u001b[0m\n\u001b[0m\u001b[0;32m    140\u001b[0m \u001b[1;33m\u001b[0m\u001b[0m\n\u001b[0;32m    141\u001b[0m     \u001b[1;32mdef\u001b[0m \u001b[0mdelete\u001b[0m\u001b[1;33m(\u001b[0m\u001b[0mself\u001b[0m\u001b[1;33m,\u001b[0m \u001b[0mpath\u001b[0m\u001b[1;33m:\u001b[0m \u001b[0mstr\u001b[0m\u001b[1;33m,\u001b[0m \u001b[0mvalidate\u001b[0m\u001b[1;33m=\u001b[0m\u001b[1;32mTrue\u001b[0m\u001b[1;33m,\u001b[0m \u001b[1;33m**\u001b[0m\u001b[0mkwargs\u001b[0m\u001b[1;33m)\u001b[0m\u001b[1;33m:\u001b[0m\u001b[1;33m\u001b[0m\u001b[1;33m\u001b[0m\u001b[0m\n",
      "\u001b[1;32m~\\git\\business-document-processing\\sap_business_document_processing\\common\\http_client_base.py\u001b[0m in \u001b[0;36m_request\u001b[1;34m(self, request_func, path, validate, log_msg_before, log_msg_after, **kwargs)\u001b[0m\n\u001b[0;32m    128\u001b[0m         \u001b[0mresponse\u001b[0m \u001b[1;33m=\u001b[0m \u001b[0mrequest_func\u001b[0m\u001b[1;33m(\u001b[0m\u001b[0mself\u001b[0m\u001b[1;33m.\u001b[0m\u001b[0mpath_to_url\u001b[0m\u001b[1;33m(\u001b[0m\u001b[0mpath\u001b[0m\u001b[1;33m)\u001b[0m\u001b[1;33m,\u001b[0m \u001b[1;33m**\u001b[0m\u001b[0mkwargs\u001b[0m\u001b[1;33m)\u001b[0m\u001b[1;33m\u001b[0m\u001b[1;33m\u001b[0m\u001b[0m\n\u001b[0;32m    129\u001b[0m         \u001b[1;32mif\u001b[0m \u001b[0mvalidate\u001b[0m\u001b[1;33m:\u001b[0m\u001b[1;33m\u001b[0m\u001b[1;33m\u001b[0m\u001b[0m\n\u001b[1;32m--> 130\u001b[1;33m             \u001b[0mself\u001b[0m\u001b[1;33m.\u001b[0m\u001b[0mraise_for_status_with_logging\u001b[0m\u001b[1;33m(\u001b[0m\u001b[0mresponse\u001b[0m\u001b[1;33m)\u001b[0m\u001b[1;33m\u001b[0m\u001b[1;33m\u001b[0m\u001b[0m\n\u001b[0m\u001b[0;32m    131\u001b[0m         \u001b[1;32mif\u001b[0m \u001b[0mlog_msg_after\u001b[0m \u001b[1;32mis\u001b[0m \u001b[1;32mnot\u001b[0m \u001b[1;32mNone\u001b[0m\u001b[1;33m:\u001b[0m\u001b[1;33m\u001b[0m\u001b[1;33m\u001b[0m\u001b[0m\n\u001b[0;32m    132\u001b[0m             \u001b[0mself\u001b[0m\u001b[1;33m.\u001b[0m\u001b[0mlogger\u001b[0m\u001b[1;33m.\u001b[0m\u001b[0minfo\u001b[0m\u001b[1;33m(\u001b[0m\u001b[0mlog_msg_after\u001b[0m\u001b[1;33m)\u001b[0m\u001b[1;33m\u001b[0m\u001b[1;33m\u001b[0m\u001b[0m\n",
      "\u001b[1;32m~\\git\\business-document-processing\\sap_business_document_processing\\common\\http_client_base.py\u001b[0m in \u001b[0;36mraise_for_status_with_logging\u001b[1;34m(self, response)\u001b[0m\n\u001b[0;32m    193\u001b[0m             self.common_logger.warning(f'{response.request.method} request to URL {response.url} failed '\n\u001b[0;32m    194\u001b[0m                                        f'with body: {response.text}')\n\u001b[1;32m--> 195\u001b[1;33m             \u001b[1;32mraise\u001b[0m \u001b[0me\u001b[0m\u001b[1;33m\u001b[0m\u001b[1;33m\u001b[0m\u001b[0m\n\u001b[0m\u001b[0;32m    196\u001b[0m \u001b[1;33m\u001b[0m\u001b[0m\n\u001b[0;32m    197\u001b[0m     \u001b[1;33m@\u001b[0m\u001b[0mstaticmethod\u001b[0m\u001b[1;33m\u001b[0m\u001b[1;33m\u001b[0m\u001b[0m\n",
      "\u001b[1;31mBDPClientException\u001b[0m: {'error': {'code': 'E102', 'message': 'Request exceeds trial account quotas.', 'details': []}}"
     ]
    }
   ],
   "source": [
    "# Create a new client with the id 'c_00' and name 'Client 00'\n",
    "api_client.create_client(client_id='c_00', client_name='Client 00')"
   ]
  },
  {
   "cell_type": "markdown",
   "metadata": {},
   "source": [
    "## Upload a document and retrieve the extracted result"
   ]
  },
  {
   "cell_type": "code",
   "execution_count": 109,
   "metadata": {},
   "outputs": [
    {
     "name": "stderr",
     "output_type": "stream",
     "text": [
      "POST request to URL https://aiservices-trial-dox.cfapps.eu10.hana.ondemand.com/document-information-extraction/v1/document/jobs failed with body: {\"error\": {\"code\": \"E1\", \"message\": \"Invalid client ID(s). The provided client ID(s) does/do not exist.\", \"details\": [{\"code\": \"0\", \"message\": \"Invalid client id(s): default\"}]}}\n",
      "\n"
     ]
    },
    {
     "ename": "BDPApiException",
     "evalue": "Information extraction failed for some documents: [{'error': {'code': 'E1', 'message': 'Invalid client ID(s). The provided client ID(s) does/do not exist.', 'details': [{'code': '0', 'message': 'Invalid client id(s): default'}]}, 'status_code': 400}]",
     "output_type": "error",
     "traceback": [
      "\u001b[1;31m---------------------------------------------------------------------------\u001b[0m",
      "\u001b[1;31mBDPApiException\u001b[0m                           Traceback (most recent call last)",
      "\u001b[1;32m<ipython-input-109-8dcef5f24288>\u001b[0m in \u001b[0;36m<module>\u001b[1;34m\u001b[0m\n\u001b[0;32m     26\u001b[0m \u001b[1;33m\u001b[0m\u001b[0m\n\u001b[0;32m     27\u001b[0m \u001b[1;31m# Extract information from invoice\u001b[0m\u001b[1;33m\u001b[0m\u001b[1;33m\u001b[0m\u001b[1;33m\u001b[0m\u001b[0m\n\u001b[1;32m---> 28\u001b[1;33m document_result = api_client.extract_information_from_document('sample-invoice-1.pdf', \n\u001b[0m\u001b[0;32m     29\u001b[0m                                                                \u001b[0mclient_id\u001b[0m\u001b[1;33m=\u001b[0m\u001b[1;34m'default'\u001b[0m\u001b[1;33m,\u001b[0m\u001b[1;33m\u001b[0m\u001b[1;33m\u001b[0m\u001b[0m\n\u001b[0;32m     30\u001b[0m                                                                \u001b[0mdocument_type\u001b[0m\u001b[1;33m=\u001b[0m\u001b[1;34m'invoice'\u001b[0m\u001b[1;33m,\u001b[0m\u001b[1;33m\u001b[0m\u001b[1;33m\u001b[0m\u001b[0m\n",
      "\u001b[1;32m~\\git\\business-document-processing\\sap_business_document_processing\\document_information_extraction_client\\dox_api_client.py\u001b[0m in \u001b[0;36mextract_information_from_document\u001b[1;34m(self, document_path, client_id, document_type, file_type, header_fields, line_item_fields, template_id, received_date, enrichment, return_null_values)\u001b[0m\n\u001b[0;32m    190\u001b[0m         \u001b[1;33m:\u001b[0m\u001b[1;32mreturn\u001b[0m\u001b[1;33m:\u001b[0m \u001b[0mThe\u001b[0m \u001b[0mextracted\u001b[0m \u001b[0minformation\u001b[0m \u001b[0mof\u001b[0m \u001b[0mthe\u001b[0m \u001b[0mdocument\u001b[0m \u001b[1;32mas\u001b[0m \u001b[0mdictionary\u001b[0m\u001b[1;33m\u001b[0m\u001b[1;33m\u001b[0m\u001b[0m\n\u001b[0;32m    191\u001b[0m         \"\"\"\n\u001b[1;32m--> 192\u001b[1;33m         return next(self.extract_information_from_documents([document_path], client_id, document_type, file_type,\n\u001b[0m\u001b[0;32m    193\u001b[0m                                                             \u001b[0mheader_fields\u001b[0m\u001b[1;33m=\u001b[0m\u001b[0mheader_fields\u001b[0m\u001b[1;33m,\u001b[0m\u001b[1;33m\u001b[0m\u001b[1;33m\u001b[0m\u001b[0m\n\u001b[0;32m    194\u001b[0m                                                             \u001b[0mline_item_fields\u001b[0m\u001b[1;33m=\u001b[0m\u001b[0mline_item_fields\u001b[0m\u001b[1;33m,\u001b[0m \u001b[0mtemplate_id\u001b[0m\u001b[1;33m=\u001b[0m\u001b[0mtemplate_id\u001b[0m\u001b[1;33m,\u001b[0m\u001b[1;33m\u001b[0m\u001b[1;33m\u001b[0m\u001b[0m\n",
      "\u001b[1;32m~\\git\\business-document-processing\\sap_business_document_processing\\document_information_extraction_client\\dox_api_client.py\u001b[0m in \u001b[0;36mextract_information_from_documents\u001b[1;34m(self, document_paths, client_id, document_type, file_type, header_fields, line_item_fields, template_id, received_date, enrichment, return_null_values, silent)\u001b[0m\n\u001b[0;32m    242\u001b[0m         options = create_document_options(client_id, document_type, header_fields, line_item_fields, template_id,\n\u001b[0;32m    243\u001b[0m                                           received_date, enrichment)\n\u001b[1;32m--> 244\u001b[1;33m         return self.extract_information_from_documents_with_options(document_paths, options, file_type,\n\u001b[0m\u001b[0;32m    245\u001b[0m                                                                     return_null_values, silent)\n\u001b[0;32m    246\u001b[0m \u001b[1;33m\u001b[0m\u001b[0m\n",
      "\u001b[1;32m~\\git\\business-document-processing\\sap_business_document_processing\\document_information_extraction_client\\dox_api_client.py\u001b[0m in \u001b[0;36mextract_information_from_documents_with_options\u001b[1;34m(self, document_paths, options, file_type, return_null_values, silent)\u001b[0m\n\u001b[0;32m    279\u001b[0m \u001b[1;33m\u001b[0m\u001b[0m\n\u001b[0;32m    280\u001b[0m         \u001b[0mupload_ids\u001b[0m \u001b[1;33m=\u001b[0m \u001b[1;33m[\u001b[0m\u001b[0mresult\u001b[0m \u001b[1;32mif\u001b[0m \u001b[0misinstance\u001b[0m\u001b[1;33m(\u001b[0m\u001b[0mresult\u001b[0m\u001b[1;33m,\u001b[0m \u001b[0mException\u001b[0m\u001b[1;33m)\u001b[0m \u001b[1;32melse\u001b[0m \u001b[0mresult\u001b[0m\u001b[1;33m[\u001b[0m\u001b[0mAPI_FIELD_ID\u001b[0m\u001b[1;33m]\u001b[0m \u001b[1;32mfor\u001b[0m \u001b[0mresult\u001b[0m \u001b[1;32min\u001b[0m \u001b[0mupload_results\u001b[0m\u001b[1;33m]\u001b[0m\u001b[1;33m\u001b[0m\u001b[1;33m\u001b[0m\u001b[0m\n\u001b[1;32m--> 281\u001b[1;33m         return self.get_extraction_for_documents(upload_ids, extracted_values=True,\n\u001b[0m\u001b[0;32m    282\u001b[0m                                                  return_null_values=return_null_values)\n\u001b[0;32m    283\u001b[0m \u001b[1;33m\u001b[0m\u001b[0m\n",
      "\u001b[1;32m~\\git\\business-document-processing\\sap_business_document_processing\\document_information_extraction_client\\dox_api_client.py\u001b[0m in \u001b[0;36mget_extraction_for_documents\u001b[1;34m(self, document_ids, extracted_values, return_null_values, silent)\u001b[0m\n\u001b[0;32m    346\u001b[0m                                [extracted_values] * len(document_ids), [return_null_values] * len(document_ids))\n\u001b[0;32m    347\u001b[0m         \u001b[1;32mif\u001b[0m \u001b[1;32mnot\u001b[0m \u001b[0msilent\u001b[0m\u001b[1;33m:\u001b[0m\u001b[1;33m\u001b[0m\u001b[1;33m\u001b[0m\u001b[0m\n\u001b[1;32m--> 348\u001b[1;33m             \u001b[0mresults\u001b[0m \u001b[1;33m=\u001b[0m \u001b[0mself\u001b[0m\u001b[1;33m.\u001b[0m\u001b[0m_validate_results\u001b[0m\u001b[1;33m(\u001b[0m\u001b[0mresults\u001b[0m\u001b[1;33m,\u001b[0m \u001b[1;34m'Information extraction failed for some documents'\u001b[0m\u001b[1;33m)\u001b[0m\u001b[1;33m\u001b[0m\u001b[1;33m\u001b[0m\u001b[0m\n\u001b[0m\u001b[0;32m    349\u001b[0m         \u001b[0mself\u001b[0m\u001b[1;33m.\u001b[0m\u001b[0mlogger\u001b[0m\u001b[1;33m.\u001b[0m\u001b[0minfo\u001b[0m\u001b[1;33m(\u001b[0m\u001b[1;34mf'Successfully got extracted information for {len(document_ids)} documents'\u001b[0m\u001b[1;33m)\u001b[0m\u001b[1;33m\u001b[0m\u001b[1;33m\u001b[0m\u001b[0m\n\u001b[0;32m    350\u001b[0m \u001b[1;33m\u001b[0m\u001b[0m\n",
      "\u001b[1;32m~\\git\\business-document-processing\\sap_business_document_processing\\common\\http_client_base.py\u001b[0m in \u001b[0;36m_validate_results\u001b[1;34m(results, error_message)\u001b[0m\n\u001b[0;32m    174\u001b[0m \u001b[1;33m\u001b[0m\u001b[0m\n\u001b[0;32m    175\u001b[0m         \u001b[1;32mif\u001b[0m \u001b[0mlen\u001b[0m\u001b[1;33m(\u001b[0m\u001b[0mfailed_results\u001b[0m\u001b[1;33m)\u001b[0m \u001b[1;33m>\u001b[0m \u001b[1;36m0\u001b[0m\u001b[1;33m:\u001b[0m\u001b[1;33m\u001b[0m\u001b[1;33m\u001b[0m\u001b[0m\n\u001b[1;32m--> 176\u001b[1;33m             \u001b[1;32mraise\u001b[0m \u001b[0mBDPApiException\u001b[0m\u001b[1;33m(\u001b[0m\u001b[0merror_message\u001b[0m \u001b[1;33m+\u001b[0m \u001b[1;34m': '\u001b[0m \u001b[1;33m+\u001b[0m \u001b[0mstr\u001b[0m\u001b[1;33m(\u001b[0m\u001b[0mfailed_results\u001b[0m\u001b[1;33m)\u001b[0m\u001b[1;33m)\u001b[0m\u001b[1;33m\u001b[0m\u001b[1;33m\u001b[0m\u001b[0m\n\u001b[0m\u001b[0;32m    177\u001b[0m         \u001b[1;32mreturn\u001b[0m \u001b[0mvalid_results\u001b[0m\u001b[1;33m\u001b[0m\u001b[1;33m\u001b[0m\u001b[0m\n\u001b[0;32m    178\u001b[0m \u001b[1;33m\u001b[0m\u001b[0m\n",
      "\u001b[1;31mBDPApiException\u001b[0m: Information extraction failed for some documents: [{'error': {'code': 'E1', 'message': 'Invalid client ID(s). The provided client ID(s) does/do not exist.', 'details': [{'code': '0', 'message': 'Invalid client id(s): default'}]}, 'status_code': 400}]"
     ]
    }
   ],
   "source": [
    "# Specify the fields that should be extracted\n",
    "header_fields = [\n",
    "         \"documentNumber\",\n",
    "         \"taxId\",\n",
    "         \"purchaseOrderNumber\",\n",
    "         \"shippingAmount\",\n",
    "         \"netAmount\",\n",
    "         \"senderAddress\",\n",
    "         \"senderName\",\n",
    "         \"grossAmount\",\n",
    "         \"currencyCode\",\n",
    "         \"receiverContact\",\n",
    "         \"documentDate\",\n",
    "         \"taxAmount\",\n",
    "         \"taxRate\",\n",
    "         \"receiverName\",\n",
    "         \"receiverAddress\"\n",
    "    ]\n",
    "line_item_fields = [\n",
    "         \"description\",\n",
    "         \"netAmount\",\n",
    "         \"quantity\",\n",
    "         \"unitPrice\",\n",
    "         \"materialNumber\"\n",
    "    ]\n",
    "\n",
    "# Extract information from invoice\n",
    "document_result = api_client.extract_information_from_document('sample-invoice-1.pdf', \n",
    "                                                               client_id='default', \n",
    "                                                               document_type='invoice', \n",
    "                                                               header_fields=header_fields, \n",
    "                                                               line_item_fields=line_item_fields)"
   ]
  },
  {
   "cell_type": "code",
   "execution_count": 16,
   "metadata": {
    "scrolled": false
   },
   "outputs": [
    {
     "name": "stdout",
     "output_type": "stream",
     "text": [
      "{\n",
      "  \"status\": \"DONE\",\n",
      "  \"id\": \"96a8e9c9-6494-45b2-8f63-e4b5cd978355\",\n",
      "  \"fileName\": \"sample-invoice-1.pdf\",\n",
      "  \"documentType\": \"invoice\",\n",
      "  \"created\": \"2021-04-29T14:08:32.907275+00:00\",\n",
      "  \"finished\": \"2021-04-29T14:08:50.529580+00:00\",\n",
      "  \"country\": \"XX\",\n",
      "  \"extraction\": {\n",
      "    \"headerFields\": [\n",
      "      {\n",
      "        \"name\": \"taxAmount\",\n",
      "        \"category\": \"amounts\",\n",
      "        \"value\": 8.5,\n",
      "        \"rawValue\": \"8.50\",\n",
      "        \"type\": \"number\",\n",
      "        \"page\": 1,\n",
      "        \"confidence\": 0.996145057678223,\n",
      "        \"coordinates\": {\n",
      "          \"x\": 0.877734899520874,\n",
      "          \"y\": 0.481346666812897,\n",
      "          \"w\": 0.0364649891853333,\n",
      "          \"h\": 0.00940251350402832\n",
      "        },\n",
      "        \"group\": 1\n",
      "      },\n",
      "      {\n",
      "        \"name\": \"documentNumber\",\n",
      "        \"category\": \"document\",\n",
      "        \"value\": \"INV-3337\",\n",
      "        \"rawValue\": \"INV-3337\",\n",
      "        \"type\": \"string\",\n",
      "        \"page\": 1,\n",
      "        \"confidence\": 0.99559623003006,\n",
      "        \"coordinates\": {\n",
      "          \"x\": 0.75975975975976,\n",
      "          \"y\": 0.13648771610555,\n",
      "          \"w\": 0.0617760617760618,\n",
      "          \"h\": 0.00788595693054292\n",
      "        }\n",
      "      },\n",
      "      {\n",
      "        \"name\": \"currencyCode\",\n",
      "        \"category\": \"amounts\",\n",
      "        \"value\": \"AUD\",\n",
      "        \"rawValue\": \"AUD\",\n",
      "        \"type\": \"string\",\n",
      "        \"page\": 1,\n",
      "        \"confidence\": 0.997213065624237,\n",
      "        \"coordinates\": {\n",
      "          \"x\": 0.0,\n",
      "          \"y\": 0.0,\n",
      "          \"w\": 0.0,\n",
      "          \"h\": 0.0\n",
      "        }\n",
      "      },\n",
      "      {\n",
      "        \"name\": \"netAmount\",\n",
      "        \"category\": \"amounts\",\n",
      "        \"value\": 85.0,\n",
      "        \"rawValue\": \"$85.00\",\n",
      "        \"type\": \"number\",\n",
      "        \"page\": 1,\n",
      "        \"confidence\": 0.640819462862882,\n",
      "        \"coordinates\": {\n",
      "          \"x\": 0.86958386958387,\n",
      "          \"y\": 0.462541704579921,\n",
      "          \"w\": 0.045045045045045,\n",
      "          \"h\": 0.00970579314528358\n",
      "        }\n",
      "      },\n",
      "      {\n",
      "        \"name\": \"receiverAddress\",\n",
      "        \"category\": \"receiver\",\n",
      "        \"value\": \"123 Somewhere St Melbourne, VIC 3000\",\n",
      "        \"rawValue\": \"123 Somewhere St Melbourne, VIC 3000\",\n",
      "        \"type\": \"string\",\n",
      "        \"page\": 1,\n",
      "        \"confidence\": 0.584573061460698,\n",
      "        \"coordinates\": {\n",
      "          \"x\": 0.0725010725010725,\n",
      "          \"y\": 0.303306035790112,\n",
      "          \"w\": 0.138138138138138,\n",
      "          \"h\": 0.0251744009705793\n",
      "        }\n",
      "      },\n",
      "      {\n",
      "        \"name\": \"senderName\",\n",
      "        \"category\": \"sender\",\n",
      "        \"value\": \"Sliced Invoices\",\n",
      "        \"rawValue\": \"Sliced Invoices\",\n",
      "        \"type\": \"string\",\n",
      "        \"page\": 1,\n",
      "        \"confidence\": 0.618328494685037,\n",
      "        \"coordinates\": {\n",
      "          \"x\": 0.0707850707850708,\n",
      "          \"y\": 0.156505914467698,\n",
      "          \"w\": 0.1003861003861,\n",
      "          \"h\": 0.00849256900212314\n",
      "        }\n",
      "      },\n",
      "      {\n",
      "        \"name\": \"senderAddress\",\n",
      "        \"category\": \"sender\",\n",
      "        \"value\": \"Suite 5A-1204 123 Somewhere Street Your City AZ 12345\",\n",
      "        \"rawValue\": \"Suite 5A-1204 123 Somewhere Street Your City AZ 12345\",\n",
      "        \"type\": \"string\",\n",
      "        \"page\": 1,\n",
      "        \"confidence\": 0.603110634102357,\n",
      "        \"coordinates\": {\n",
      "          \"x\": 0.0716430716430716,\n",
      "          \"y\": 0.172581134364574,\n",
      "          \"w\": 0.151008151008151,\n",
      "          \"h\": 0.0403397027600849\n",
      "        }\n",
      "      },\n",
      "      {\n",
      "        \"name\": \"receiverName\",\n",
      "        \"category\": \"receiver\",\n",
      "        \"value\": \"Test Business\",\n",
      "        \"rawValue\": \"Test Business\",\n",
      "        \"type\": \"string\",\n",
      "        \"page\": 1,\n",
      "        \"confidence\": 0.609691564490398,\n",
      "        \"coordinates\": {\n",
      "          \"x\": 0.0712140712140712,\n",
      "          \"y\": 0.288140734000607,\n",
      "          \"w\": 0.0926640926640927,\n",
      "          \"h\": 0.00818926296633299\n",
      "        }\n",
      "      },\n",
      "      {\n",
      "        \"name\": \"purchaseOrderNumber\",\n",
      "        \"category\": \"details\",\n",
      "        \"value\": \"12345\",\n",
      "        \"rawValue\": \"12345\",\n",
      "        \"type\": \"string\",\n",
      "        \"page\": 1,\n",
      "        \"confidence\": 0.0,\n",
      "        \"coordinates\": {\n",
      "          \"x\": 0.760617760617761,\n",
      "          \"y\": 0.155595996360328,\n",
      "          \"w\": 0.039039039039039,\n",
      "          \"h\": 0.00788595693054292\n",
      "        }\n",
      "      },\n",
      "      {\n",
      "        \"name\": \"grossAmount\",\n",
      "        \"category\": \"amounts\",\n",
      "        \"value\": 93.5,\n",
      "        \"rawValue\": \"$93.50\",\n",
      "        \"type\": \"number\",\n",
      "        \"page\": 1,\n",
      "        \"confidence\": 0.652423412510843,\n",
      "        \"coordinates\": {\n",
      "          \"x\": 0.87001287001287,\n",
      "          \"y\": 0.500151653017895,\n",
      "          \"w\": 0.0446160446160446,\n",
      "          \"h\": 0.00970579314528353\n",
      "        }\n",
      "      },\n",
      "      {\n",
      "        \"name\": \"documentDate\",\n",
      "        \"category\": \"document\",\n",
      "        \"value\": \"2016-01-25\",\n",
      "        \"rawValue\": \"January 25, 2016\",\n",
      "        \"type\": \"date\",\n",
      "        \"page\": 1,\n",
      "        \"confidence\": 0.98569817841053,\n",
      "        \"coordinates\": {\n",
      "          \"x\": 0.759330759330759,\n",
      "          \"y\": 0.174097664543524,\n",
      "          \"w\": 0.113685113685114,\n",
      "          \"h\": 0.0100090991810737\n",
      "        }\n",
      "      }\n",
      "    ],\n",
      "    \"lineItems\": [\n",
      "      [\n",
      "        {\n",
      "          \"name\": \"description\",\n",
      "          \"category\": \"details\",\n",
      "          \"value\": \"Web Design This is a sample description...\",\n",
      "          \"rawValue\": \"Web Design This is a sample description...\",\n",
      "          \"type\": \"string\",\n",
      "          \"page\": 1,\n",
      "          \"confidence\": 0.619553353135913,\n",
      "          \"coordinates\": {\n",
      "            \"x\": 0.172029172029172,\n",
      "            \"y\": 0.413709432817713,\n",
      "            \"w\": 0.174603174603175,\n",
      "            \"h\": 0.0221413406126782\n",
      "          }\n",
      "        },\n",
      "        {\n",
      "          \"name\": \"quantity\",\n",
      "          \"category\": \"details\",\n",
      "          \"value\": 1.0,\n",
      "          \"rawValue\": \"1.00\",\n",
      "          \"type\": \"number\",\n",
      "          \"page\": 1,\n",
      "          \"confidence\": 0.644007015795935,\n",
      "          \"coordinates\": {\n",
      "            \"x\": 0.101673101673102,\n",
      "            \"y\": 0.419775553533515,\n",
      "            \"w\": 0.0278850278850279,\n",
      "            \"h\": 0.00849256900212314\n",
      "          }\n",
      "        },\n",
      "        {\n",
      "          \"name\": \"netAmount\",\n",
      "          \"category\": \"amounts\",\n",
      "          \"value\": 85.0,\n",
      "          \"rawValue\": \"$85.00\",\n",
      "          \"type\": \"number\",\n",
      "          \"page\": 1,\n",
      "          \"confidence\": 0.631304034681031,\n",
      "          \"coordinates\": {\n",
      "            \"x\": 0.86958386958387,\n",
      "            \"y\": 0.419472247497725,\n",
      "            \"w\": 0.045045045045045,\n",
      "            \"h\": 0.00940248710949348\n",
      "          }\n",
      "        },\n",
      "        {\n",
      "          \"name\": \"unitPrice\",\n",
      "          \"category\": \"details\",\n",
      "          \"value\": 85.0,\n",
      "          \"rawValue\": \"$85.00\",\n",
      "          \"type\": \"number\",\n",
      "          \"page\": 1,\n",
      "          \"confidence\": 0.636716777628118,\n",
      "          \"coordinates\": {\n",
      "            \"x\": 0.61046761046761,\n",
      "            \"y\": 0.419472247497725,\n",
      "            \"w\": 0.0446160446160446,\n",
      "            \"h\": 0.00970579314528358\n",
      "          }\n",
      "        }\n",
      "      ]\n",
      "    ]\n",
      "  },\n",
      "  \"fileType\": \"pdf\",\n",
      "  \"dataForRetrainingStatus\": \"notUsedForTraining\"\n",
      "}\n"
     ]
    }
   ],
   "source": [
    "# Check the extracted data\n",
    "print(json.dumps(document_result, indent=2))"
   ]
  },
  {
   "cell_type": "code",
   "execution_count": 41,
   "metadata": {},
   "outputs": [],
   "source": [
    "from IPython.display import IFrame\n",
    "from fpdf import FPDF\n",
    "from PyPDF2 import PdfFileReader, PdfFileWriter\n",
    "import io\n",
    "def create_overlay(document_path, output_path):\n",
    "    input_pdf = PdfFileReader(document_path)\n",
    "    output_pdf = PdfFileWriter()\n",
    "    \n",
    "    pdf = FPDF(unit='pt')\n",
    "    pdf.set_font('Helvetica')\n",
    "    pdf.set_margins(0, 0)\n",
    "    pdf.set_draw_color(102, 255, 178)\n",
    "    pdf.set_line_width(1)\n",
    "    \n",
    "    for n in range(len(input_pdf.pages)):\n",
    "        input_page = input_pdf.getPage(n)\n",
    "        width = float(input_page.mediaBox.getWidth())\n",
    "        height = float(input_page.mediaBox.getHeight())\n",
    "        pdf.add_page(format=(width, height))\n",
    "        \n",
    "        for hf in (hf for hf in document_result['extraction']['headerFields'] if hf['page'] == n + 1):\n",
    "            x = hf['coordinates']['x']\n",
    "            y = hf['coordinates']['y']\n",
    "            w = hf['coordinates']['w']\n",
    "            h = hf['coordinates']['h']\n",
    "            pdf.rect(x * width, y * height, w * width, h * height)\n",
    "        for li in (li for line in document_result['extraction']['lineItems'] for li in line if li['page'] == n + 1):\n",
    "            x = li['coordinates']['x']\n",
    "            y = li['coordinates']['y']\n",
    "            w = li['coordinates']['w']\n",
    "            h = li['coordinates']['h']\n",
    "            pdf.rect(x * width, y * height, w * width, h * height)\n",
    "            \n",
    "    overlay = PdfFileReader(io.BytesIO(pdf.output()))\n",
    "    \n",
    "    for n in range(len(input_pdf.pages)):\n",
    "        page = input_pdf.getPage(n)\n",
    "        page.mergePage(overlay.getPage(n))\n",
    "        output_pdf.addPage(page)\n",
    "      \n",
    "    with open(output_path, 'wb') as out:\n",
    "        output_pdf.write(out)"
   ]
  },
  {
   "cell_type": "code",
   "execution_count": 97,
   "metadata": {},
   "outputs": [
    {
     "data": {
      "text/html": [
       "\n",
       "        <iframe\n",
       "            width=\"700\"\n",
       "            height=\"1000\"\n",
       "            src=\"output.pdf\"\n",
       "            frameborder=\"0\"\n",
       "            allowfullscreen\n",
       "        ></iframe>\n",
       "        "
      ],
      "text/plain": [
       "<IPython.lib.display.IFrame at 0x1bca5d7ed90>"
      ]
     },
     "execution_count": 97,
     "metadata": {},
     "output_type": "execute_result"
    }
   ],
   "source": [
    "# Let's visualize the extraction results\n",
    "output_file = 'output.pdf'\n",
    "create_overlay('sample-invoice-1.pdf', output_file)\n",
    "\n",
    "IFrame(output_file, 700, 1000)"
   ]
  },
  {
   "cell_type": "markdown",
   "metadata": {},
   "source": [
    "## Upload Ground Truth"
   ]
  },
  {
   "cell_type": "markdown",
   "metadata": {},
   "source": [
    "Ground truth values can be uploaded to evaluate the results of the Document Information Extraction"
   ]
  },
  {
   "cell_type": "code",
   "execution_count": 98,
   "metadata": {},
   "outputs": [],
   "source": [
    "# Load ground truth values from json file\n",
    "with open('gt-sample-invoice-1.json') as ground_truth_file:\n",
    "    ground_truth = json.load(ground_truth_file)"
   ]
  },
  {
   "cell_type": "code",
   "execution_count": 102,
   "metadata": {},
   "outputs": [
    {
     "data": {
      "text/plain": [
       "{'status': 'DONE',\n",
       " 'message': 'Ground truth / corrected values uploaded successfully'}"
      ]
     },
     "execution_count": 102,
     "metadata": {},
     "output_type": "execute_result"
    }
   ],
   "source": [
    "# Add ground truth values to the uploaded invoice\n",
    "api_client.post_ground_truth_for_document(document_id=document_result['id'], ground_truth=ground_truth)"
   ]
  }
 ],
 "metadata": {
  "kernelspec": {
   "display_name": "Python 3",
   "language": "python",
   "name": "python3"
  },
  "language_info": {
   "codemirror_mode": {
    "name": "ipython",
    "version": 3
   },
   "file_extension": ".py",
   "mimetype": "text/x-python",
   "name": "python",
   "nbconvert_exporter": "python",
   "pygments_lexer": "ipython3",
   "version": "3.8.3"
  }
 },
 "nbformat": 4,
 "nbformat_minor": 4
}
