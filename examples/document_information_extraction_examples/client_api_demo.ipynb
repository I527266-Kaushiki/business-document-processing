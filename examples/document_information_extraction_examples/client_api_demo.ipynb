{
 "cells": [
  {
   "cell_type": "markdown",
   "metadata": {},
   "source": [
    "# Document Information Extraction Demo"
   ]
  },
  {
   "cell_type": "markdown",
   "metadata": {},
   "source": [
    "This notebook is designed to demonstrate how to easily consume the SAP AI Business Services - Document Information Extraction service. In this demo, we first create a new client to then use the service to extract data from an example invoice."
   ]
  },
  {
   "cell_type": "markdown",
   "metadata": {},
   "source": [
    "## Fetch python module"
   ]
  },
  {
   "cell_type": "markdown",
   "metadata": {},
   "source": [
    "This notebook requires the python package containing the client."
   ]
  },
  {
   "cell_type": "code",
   "execution_count": null,
   "metadata": {},
   "outputs": [],
   "source": [
    "# import from PyPI when available\n",
    "!pip install -i https://test.pypi.org/simple/ sap-business-document-processing"
   ]
  },
  {
   "cell_type": "markdown",
   "metadata": {},
   "source": [
    "## Settings"
   ]
  },
  {
   "cell_type": "markdown",
   "metadata": {},
   "source": [
    "The settings require a valid service key for the Document Information Extraction service on SAP Cloud Plattform."
   ]
  },
  {
   "cell_type": "markdown",
   "metadata": {},
   "source": [
    "The keys in the service key needed here are named exactly as the variables, specifically:\n",
    "\n",
    "- url: The URL of the service deployment provided in the outermost hierachy of the service key json file\n",
    "- uaa_url: The URL of the UAA server used for authentication provided in the uaa of the service key json file\n",
    "- uaa_clientid: The clientid used for authentication to the UAA server provided in the uaa of the service key json file\n",
    "- uaa_clientsecret: The clientsecret used for authentication to the UAA server provided in the uaa of the service key json file"
   ]
  },
  {
   "cell_type": "code",
   "execution_count": null,
   "metadata": {},
   "outputs": [],
   "source": [
    "service_key = {\n",
    "  \"url\": \"https://aiservices-trial-dox.cfapps.eu10.hana.ondemand.com\",\n",
    "  \"uaa\": {\n",
    "    \"tenantmode\": \"shared\",\n",
    "    \"sburl\": \"***************\",\n",
    "    \"subaccountid\": \"***************\",\n",
    "    \"clientid\": \"***************\",\n",
    "    \"xsappname\": \"***************\",\n",
    "    \"clientsecret\": \"***************\",\n",
    "    \"url\": \"***************\",\n",
    "    \"uaadomain\": \"***************\",\n",
    "    \"verificationkey\": \"***************\",\n",
    "    \"apiurl\": \"***************\",\n",
    "    \"identityzone\": \"***************\",\n",
    "    \"identityzoneid\": \"***************\",\n",
    "    \"tenantid\": \"***************\",\n",
    "    \"zoneid\": \"***************\"\n",
    "  },\n",
    "  \"swagger\": \"/document-information-extraction/v1/\"\n",
    "}\n",
    "url = service_key['url']\n",
    "client_id = service_key['uaa']['clientid']\n",
    "client_secret = service_key['uaa']['clientsecret']\n",
    "uaa_url = service_key['uaa']['url']"
   ]
  },
  {
   "cell_type": "markdown",
   "metadata": {},
   "source": [
    "## Initialize Demo"
   ]
  },
  {
   "cell_type": "code",
   "execution_count": null,
   "metadata": {},
   "outputs": [],
   "source": [
    "# Import DOX API client\n",
    "from sap_business_document_processing import DoxApiClient\n",
    "import json"
   ]
  },
  {
   "cell_type": "code",
   "execution_count": null,
   "metadata": {},
   "outputs": [],
   "source": [
    "# Instantiate object used to communicate with Document Information Extraction REST API\n",
    "api_client = DoxApiClient(url, client_id, client_secret, uaa_url)"
   ]
  },
  {
   "cell_type": "markdown",
   "metadata": {},
   "source": [
    "## Display access token"
   ]
  },
  {
   "cell_type": "code",
   "execution_count": null,
   "metadata": {},
   "outputs": [],
   "source": [
    "# Token can be used to interact with e.g. swagger UI to explore DOX API\n",
    "print(api_client.session.token)\n",
    "print(f\"\\nYou can use this token to Authorize here and explore the API via Swagger UI: \\n{api_client.base_url}\")"
   ]
  },
  {
   "cell_type": "markdown",
   "metadata": {},
   "source": [
    "## See list of document fields you can extract"
   ]
  },
  {
   "cell_type": "code",
   "execution_count": null,
   "metadata": {},
   "outputs": [],
   "source": [
    "# Get the fields and document types that can be used\n",
    "capabilities = api_client.get_capabilities()\n",
    "data_types = capabilities['documentTypes']\n",
    "print('Available document types:', data_types)\n",
    "print('Available extraction fields:')\n",
    "for data_type in data_types:\n",
    "    print(f\"for '{data_type}':\")\n",
    "    print('\\tHeader fields:')\n",
    "    [print('\\t\\t', hf['name']) for hf in capabilities['extraction']['headerFields'] if (data_type in hf['supportedDocumentTypes'])]\n",
    "    print('\\tLine item fields:')\n",
    "    [print('\\t\\t', li['name']) for li in capabilities['extraction']['lineItemFields'] if (data_type in li['supportedDocumentTypes'])]"
   ]
  },
  {
   "cell_type": "markdown",
   "metadata": {},
   "source": [
    "# (optional) Create a Client"
   ]
  },
  {
   "cell_type": "markdown",
   "metadata": {},
   "source": [
    "To use Document Information Extraction, you need a client. This client is used to distinguish and separate data. You can create a new client if you wish to perform the information extraction with a separate client."
   ]
  },
  {
   "cell_type": "code",
   "execution_count": null,
   "metadata": {
    "scrolled": true
   },
   "outputs": [],
   "source": [
    "# Check which clients exist for this tenant\n",
    "api_client.get_clients()"
   ]
  },
  {
   "cell_type": "code",
   "execution_count": null,
   "metadata": {
    "scrolled": false
   },
   "outputs": [],
   "source": [
    "# Create a new client with the id 'c_00' and name 'Client 00'\n",
    "api_client.create_client(client_id='c_00', client_name='Client 00')"
   ]
  },
  {
   "cell_type": "markdown",
   "metadata": {},
   "source": [
    "## Upload a document and retrieve the extracted result"
   ]
  },
  {
   "cell_type": "code",
   "execution_count": null,
   "metadata": {},
   "outputs": [],
   "source": [
    "# Specify the fields that should be extracted\n",
    "header_fields = [\n",
    "         \"documentNumber\",\n",
    "         \"taxId\",\n",
    "         \"purchaseOrderNumber\",\n",
    "         \"shippingAmount\",\n",
    "         \"netAmount\",\n",
    "         \"senderAddress\",\n",
    "         \"senderName\",\n",
    "         \"grossAmount\",\n",
    "         \"currencyCode\",\n",
    "         \"receiverContact\",\n",
    "         \"documentDate\",\n",
    "         \"taxAmount\",\n",
    "         \"taxRate\",\n",
    "         \"receiverName\",\n",
    "         \"receiverAddress\"\n",
    "    ]\n",
    "line_item_fields = [\n",
    "         \"description\",\n",
    "         \"netAmount\",\n",
    "         \"quantity\",\n",
    "         \"unitPrice\",\n",
    "         \"materialNumber\"\n",
    "    ]\n",
    "\n",
    "# Extract information from invoice\n",
    "document_result = api_client.extract_information_from_document('sample-invoice-1.pdf', \n",
    "                                                               client_id='default', \n",
    "                                                               document_type='invoice', \n",
    "                                                               header_fields=header_fields, \n",
    "                                                               line_item_fields=line_item_fields)"
   ]
  },
  {
   "cell_type": "code",
   "execution_count": null,
   "metadata": {
    "scrolled": false
   },
   "outputs": [],
   "source": [
    "# Check the extracted data\n",
    "print(json.dumps(document_result, indent=2))"
   ]
  },
  {
   "cell_type": "code",
   "execution_count": null,
   "metadata": {},
   "outputs": [],
   "source": [
    "from IPython.display import IFrame\n",
    "from fpdf import FPDF\n",
    "from PyPDF2 import PdfFileReader, PdfFileWriter\n",
    "import io\n",
    "\n",
    "max_text_width = 150\n",
    "font_size = 10\n",
    "\n",
    "def create_overlay(document_path, output_path):\n",
    "    input_pdf = PdfFileReader(document_path)\n",
    "    output_pdf = PdfFileWriter()\n",
    "    \n",
    "    pdf = FPDF(unit='pt')\n",
    "    pdf.set_font('Helvetica')\n",
    "    pdf.set_font_size(font_size)\n",
    "    pdf.set_margins(0, 0)\n",
    "    pdf.set_draw_color(102, 255, 178)\n",
    "    pdf.set_line_width(1)\n",
    "    \n",
    "    \n",
    "    for n in range(len(input_pdf.pages)):\n",
    "        input_page = input_pdf.getPage(n)\n",
    "        width = float(input_page.mediaBox.getWidth())\n",
    "        height = float(input_page.mediaBox.getHeight())\n",
    "        pdf.add_page(format=(width, height))\n",
    "        \n",
    "        for hf in (hf for hf in document_result['extraction']['headerFields'] if hf['page'] == n + 1):\n",
    "            x = hf['coordinates']['x']\n",
    "            y = hf['coordinates']['y']\n",
    "            w = hf['coordinates']['w']\n",
    "            h = hf['coordinates']['h']\n",
    "            pdf.rect(x * width, y * height, w * width, h * height)\n",
    "            pdf.set_xy((x + w) * width + 2, y * height)\n",
    "            pdf.multi_cell(min(pdf.get_string_width(str(hf['value'])) + 6, max_text_width), h=font_size, txt=str(hf['value']), border=1)\n",
    "            #print(hf['value'])\n",
    "        for li in (li for line in document_result['extraction']['lineItems'] for li in line if li['page'] == n + 1):\n",
    "            x = li['coordinates']['x']\n",
    "            y = li['coordinates']['y']\n",
    "            w = li['coordinates']['w']\n",
    "            h = li['coordinates']['h']\n",
    "            pdf.rect(x * width, y * height, w * width, h * height)\n",
    "            pdf.set_xy((x + w) * width, y * height)\n",
    "            pdf.multi_cell(min(pdf.get_string_width(str(li['value'])) + 6, max_text_width), h=font_size, txt=str(li['value']), border=1)\n",
    "    \n",
    "    overlay = PdfFileReader(io.BytesIO(pdf.output()))\n",
    "    \n",
    "    for n in range(len(input_pdf.pages)):\n",
    "        page = input_pdf.getPage(n)\n",
    "        page.mergePage(overlay.getPage(n))\n",
    "        output_pdf.addPage(page)\n",
    "      \n",
    "    with open(output_path, 'wb') as out:\n",
    "        output_pdf.write(out)"
   ]
  },
  {
   "cell_type": "code",
   "execution_count": null,
   "metadata": {},
   "outputs": [],
   "source": [
    "# Let's visualize the extraction results\n",
    "output_file = 'output.pdf'\n",
    "create_overlay('sample-invoice-1.pdf', output_file)\n",
    "\n",
    "IFrame(output_file, 700, 1000)"
   ]
  },
  {
   "cell_type": "markdown",
   "metadata": {},
   "source": [
    "## Upload Ground Truth"
   ]
  },
  {
   "cell_type": "markdown",
   "metadata": {},
   "source": [
    "Ground truth values can be uploaded to evaluate the results of the Document Information Extraction"
   ]
  },
  {
   "cell_type": "code",
   "execution_count": null,
   "metadata": {},
   "outputs": [],
   "source": [
    "# Load ground truth values from json file\n",
    "with open('gt-sample-invoice-1.json') as ground_truth_file:\n",
    "    ground_truth = json.load(ground_truth_file)"
   ]
  },
  {
   "cell_type": "code",
   "execution_count": null,
   "metadata": {},
   "outputs": [],
   "source": [
    "# Add ground truth values to the uploaded invoice\n",
    "api_client.post_ground_truth_for_document(document_id=document_result['id'], ground_truth=ground_truth)"
   ]
  },
  {
   "cell_type": "code",
   "execution_count": null,
   "metadata": {},
   "outputs": [],
   "source": [
    "# You can now also retrieve the uploaded ground truth values by setting extracted_values to False\n",
    "api_client.get_extraction_for_document(document_id=document_result['id'], extracted_values=False)"
   ]
  },
  {
   "cell_type": "code",
   "execution_count": null,
   "metadata": {},
   "outputs": [],
   "source": []
  }
 ],
 "metadata": {
  "kernelspec": {
   "display_name": "Python 3",
   "language": "python",
   "name": "python3"
  },
  "language_info": {
   "codemirror_mode": {
    "name": "ipython",
    "version": 3
   },
   "file_extension": ".py",
   "mimetype": "text/x-python",
   "name": "python",
   "nbconvert_exporter": "python",
   "pygments_lexer": "ipython3",
   "version": "3.8.3"
  }
 },
 "nbformat": 4,
 "nbformat_minor": 4
}
