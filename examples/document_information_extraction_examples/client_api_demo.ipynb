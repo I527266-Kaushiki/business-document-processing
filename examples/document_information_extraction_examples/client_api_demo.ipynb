{
 "cells": [
  {
   "cell_type": "markdown",
   "metadata": {},
   "source": [
    "# Document Information Extraction Demo"
   ]
  },
  {
   "cell_type": "markdown",
   "metadata": {},
   "source": [
    "This notebook is designed to demonstrate how to easily consume the SAP AI Business Services - Document Information Extraction service. In this demo, we first create a new client to then use the service to extract data from an example invoice."
   ]
  },
  {
   "cell_type": "markdown",
   "metadata": {},
   "source": [
    "## Fetch python module"
   ]
  },
  {
   "cell_type": "markdown",
   "metadata": {},
   "source": [
    "This notebook requires the python package containing the client."
   ]
  },
  {
   "cell_type": "code",
   "execution_count": 2,
   "metadata": {},
   "outputs": [
    {
     "name": "stdout",
     "output_type": "stream",
     "text": [
      "Looking in indexes: https://test.pypi.org/simple/\n",
      "Collecting sap-business-document-processing\n",
      "  Downloading https://test-files.pythonhosted.org/packages/47/ab/4bed0459abe594f2d5d8dc932467f37333f129b183b75e71e19c8bca5d3e/sap_business_document_processing-0.1.0.5-py3-none-any.whl (28 kB)\n",
      "Requirement already satisfied: requests==2.23.0 in c:\\users\\d070760\\anaconda3\\lib\\site-packages (from sap-business-document-processing) (2.23.0)\n",
      "Requirement already satisfied: requests-oauthlib==1.3.0 in c:\\users\\d070760\\anaconda3\\lib\\site-packages (from sap-business-document-processing) (1.3.0)\n",
      "Requirement already satisfied: chardet<4,>=3.0.2 in c:\\users\\d070760\\anaconda3\\lib\\site-packages (from requests==2.23.0->sap-business-document-processing) (3.0.4)\n",
      "Requirement already satisfied: urllib3!=1.25.0,!=1.25.1,<1.26,>=1.21.1 in c:\\users\\d070760\\appdata\\roaming\\python\\python38\\site-packages (from requests==2.23.0->sap-business-document-processing) (1.25.11)\n",
      "Requirement already satisfied: idna<3,>=2.5 in c:\\users\\d070760\\anaconda3\\lib\\site-packages (from requests==2.23.0->sap-business-document-processing) (2.10)\n",
      "Requirement already satisfied: certifi>=2017.4.17 in c:\\users\\d070760\\anaconda3\\lib\\site-packages (from requests==2.23.0->sap-business-document-processing) (2020.6.20)\n",
      "Requirement already satisfied: oauthlib>=3.0.0 in c:\\users\\d070760\\anaconda3\\lib\\site-packages (from requests-oauthlib==1.3.0->sap-business-document-processing) (3.1.0)\n",
      "Installing collected packages: sap-business-document-processing\n",
      "Successfully installed sap-business-document-processing-0.1.0.5\n"
     ]
    }
   ],
   "source": [
    "# import from PyPI when available\n",
    "!pip install -i https://test.pypi.org/simple/ sap-business-document-processing"
   ]
  },
  {
   "cell_type": "markdown",
   "metadata": {},
   "source": [
    "## Settings"
   ]
  },
  {
   "cell_type": "markdown",
   "metadata": {},
   "source": [
    "The settings require a valid service key for the Document Information Extraction service on SAP Cloud Plattform."
   ]
  },
  {
   "cell_type": "markdown",
   "metadata": {},
   "source": [
    "The keys in the service key needed here are named exactly as the variables, specifically:\n",
    "\n",
    "- url: The URL of the service deployment provided in the outermost hierachy of the service key json file\n",
    "- uaa_url: The URL of the UAA server used for authentication provided in the uaa of the service key json file\n",
    "- uaa_clientid: The clientid used for authentication to the UAA server provided in the uaa of the service key json file\n",
    "- uaa_clientsecret: The clientsecret used for authentication to the UAA server provided in the uaa of the service key json file"
   ]
  },
  {
   "cell_type": "code",
   "execution_count": 11,
   "metadata": {},
   "outputs": [],
   "source": [
    "service_key = {\n",
    "  \"url\": \"https://aiservices-trial-dox.cfapps.eu10.hana.ondemand.com\",\n",
    "  \"uaa\": {\n",
    "    \"tenantmode\": \"shared\",\n",
    "    \"sburl\": \"https://internal-xsuaa.authentication.eu10.hana.ondemand.com\",\n",
    "    \"subaccountid\": \"*********\",\n",
    "    \"clientid\": \"*********\",\n",
    "    \"xsappname\": \"*********\",\n",
    "    \"clientsecret\": \"*********\",\n",
    "    \"url\": \"https://*********.authentication.eu10.hana.ondemand.com\",\n",
    "    \"uaadomain\": \"authentication.eu10.hana.ondemand.com\",\n",
    "    \"verificationkey\": \"*********\",\n",
    "    \"apiurl\": \"https://api.authentication.eu10.hana.ondemand.com\",\n",
    "    \"identityzone\": \"*********\",\n",
    "    \"identityzoneid\": \"*********\",\n",
    "    \"tenantid\": \"*********\",\n",
    "    \"zoneid\": \"*********\"\n",
    "  },\n",
    "  \"swagger\": \"/document-information-extraction/v1/\"\n",
    "}\n",
    "url = service_key['url']\n",
    "client_id = service_key['uaa']['clientid']\n",
    "client_secret = service_key['uaa']['clientsecret']\n",
    "uaa_url = service_key['uaa']['url']"
   ]
  },
  {
   "cell_type": "markdown",
   "metadata": {},
   "source": [
    "## Initialize Demo"
   ]
  },
  {
   "cell_type": "code",
   "execution_count": 8,
   "metadata": {},
   "outputs": [],
   "source": [
    "# Import DOX API client\n",
    "from sap_business_document_processing import DoxApiClient\n",
    "import json"
   ]
  },
  {
   "cell_type": "code",
   "execution_count": 12,
   "metadata": {},
   "outputs": [],
   "source": [
    "# Instantiate object used to communicate with Document Information Extraction REST API\n",
    "api_client = DoxApiClient(url, client_id, client_secret, uaa_url)"
   ]
  },
  {
   "cell_type": "markdown",
   "metadata": {},
   "source": [
    "## Display access token"
   ]
  },
  {
   "cell_type": "code",
   "execution_count": 13,
   "metadata": {},
   "outputs": [
    {
     "name": "stdout",
     "output_type": "stream",
     "text": [
      "{'access_token': 'eyJhbGciOiJSUzI1NiIsImprdSI6Imh0dHBzOi8vYmVlODlmMmN0cmlhbC5hdXRoZW50aWNhdGlvbi5ldTEwLmhhbmEub25kZW1hbmQuY29tL3Rva2VuX2tleXMiLCJraWQiOiJkZWZhdWx0LWp3dC1rZXktNzcwMTI5NjY1IiwidHlwIjoiSldUIn0.eyJqdGkiOiIxODRkMjc0MDQyZTE0YzRmYTExOWNhMGM0ZThlMWRkYiIsImV4dF9hdHRyIjp7ImVuaGFuY2VyIjoiWFNVQUEiLCJzdWJhY2NvdW50aWQiOiIxMTkzOTYxOS1hZjAxLTRhOGMtYmRhNS04ZTU0MzUyODA3OTEiLCJ6ZG4iOiJiZWU4OWYyY3RyaWFsIiwic2VydmljZWluc3RhbmNlaWQiOiI2MzJhNTRhNC02ZTQyLTRjMTQtOGYyZS1lOTNmMjBiNzZiNWQifSwic3ViIjoic2ItNjMyYTU0YTQtNmU0Mi00YzE0LThmMmUtZTkzZjIwYjc2YjVkIWI3Njk0MXxuYS05ZTUwNDk5Zi03OGRkLTQwY2EtYWQ4ZC02MGFjZjAyY2ZmOGIhYjMwNDE3IiwiYXV0aG9yaXRpZXMiOlsidWFhLnJlc291cmNlIiwibmEtOWU1MDQ5OWYtNzhkZC00MGNhLWFkOGQtNjBhY2YwMmNmZjhiIWIzMDQxNy50ZWNobmljYWxzY29wZSJdLCJzY29wZSI6WyJ1YWEucmVzb3VyY2UiLCJuYS05ZTUwNDk5Zi03OGRkLTQwY2EtYWQ4ZC02MGFjZjAyY2ZmOGIhYjMwNDE3LnRlY2huaWNhbHNjb3BlIl0sImNsaWVudF9pZCI6InNiLTYzMmE1NGE0LTZlNDItNGMxNC04ZjJlLWU5M2YyMGI3NmI1ZCFiNzY5NDF8bmEtOWU1MDQ5OWYtNzhkZC00MGNhLWFkOGQtNjBhY2YwMmNmZjhiIWIzMDQxNyIsImNpZCI6InNiLTYzMmE1NGE0LTZlNDItNGMxNC04ZjJlLWU5M2YyMGI3NmI1ZCFiNzY5NDF8bmEtOWU1MDQ5OWYtNzhkZC00MGNhLWFkOGQtNjBhY2YwMmNmZjhiIWIzMDQxNyIsImF6cCI6InNiLTYzMmE1NGE0LTZlNDItNGMxNC04ZjJlLWU5M2YyMGI3NmI1ZCFiNzY5NDF8bmEtOWU1MDQ5OWYtNzhkZC00MGNhLWFkOGQtNjBhY2YwMmNmZjhiIWIzMDQxNyIsImdyYW50X3R5cGUiOiJjbGllbnRfY3JlZGVudGlhbHMiLCJyZXZfc2lnIjoiNmJkZDFhYjQiLCJpYXQiOjE2MjE0MTQ3MzAsImV4cCI6MTYyMTQ1NzkzMCwiaXNzIjoiaHR0cHM6Ly9iZWU4OWYyY3RyaWFsLmF1dGhlbnRpY2F0aW9uLmV1MTAuaGFuYS5vbmRlbWFuZC5jb20vb2F1dGgvdG9rZW4iLCJ6aWQiOiIxMTkzOTYxOS1hZjAxLTRhOGMtYmRhNS04ZTU0MzUyODA3OTEiLCJhdWQiOlsic2ItNjMyYTU0YTQtNmU0Mi00YzE0LThmMmUtZTkzZjIwYjc2YjVkIWI3Njk0MXxuYS05ZTUwNDk5Zi03OGRkLTQwY2EtYWQ4ZC02MGFjZjAyY2ZmOGIhYjMwNDE3IiwidWFhIiwibmEtOWU1MDQ5OWYtNzhkZC00MGNhLWFkOGQtNjBhY2YwMmNmZjhiIWIzMDQxNyJdfQ.H4_dR0mhzjRTkr0vid8BPTTtWuvmB-8KGAIA1w2Q2aziVebSmBoKKW2yjUhWXI-F1OgrFigiaYxnyQpU0HcVJg-hgySWlPVG-d7EPYgu9tLE5ZXoeaAMSK29qXPrbVtFuAe11No6nDXNvAQq3jIthlWROsJZDwEU12Lp9CApBs9q7-L3nLPEikPnD3il289o0DT3eHufpil-W8h86z9QBXiYzFPZyXRHA9lYLWc1EHF0EgT9GSM2SKwSMoJwOE_tb-QY0MVQoROskIdYQmVAKb3o3vACGMUAVqhrySQIv52RQzCLB5V68AamFy1q8nfe69DSkaXAgkHfqrVxAldccg', 'token_type': 'bearer', 'expires_in': 43199, 'scope': ['uaa.resource', 'na-9e50499f-78dd-40ca-ad8d-60acf02cff8b!b30417.technicalscope'], 'jti': '184d274042e14c4fa119ca0c4e8e1ddb', 'expires_at': 1621457928.554515}\n",
      "\n",
      "You can use this token to Authorize here and explore the API via Swagger UI: \n",
      "https://aiservices-trial-dox.cfapps.eu10.hana.ondemand.com/document-information-extraction/v1/\n"
     ]
    }
   ],
   "source": [
    "# Token can be used to interact with e.g. swagger UI to explore DOX API\n",
    "print(api_client.session.token)\n",
    "print(f\"\\nYou can use this token to Authorize here and explore the API via Swagger UI: \\n{api_client.base_url}\")"
   ]
  },
  {
   "cell_type": "markdown",
   "metadata": {},
   "source": [
    "## See list of document fields you can extract"
   ]
  },
  {
   "cell_type": "code",
   "execution_count": 14,
   "metadata": {},
   "outputs": [
    {
     "name": "stdout",
     "output_type": "stream",
     "text": [
      "Available document types: ['invoice', 'paymentAdvice']\n",
      "Available extraction fields:\n",
      "for 'invoice':\n",
      "\tHeader fields:\n",
      "\t\t documentNumber\n",
      "\t\t taxId\n",
      "\t\t taxName\n",
      "\t\t purchaseOrderNumber\n",
      "\t\t shippingAmount\n",
      "\t\t netAmount\n",
      "\t\t grossAmount\n",
      "\t\t currencyCode\n",
      "\t\t receiverContact\n",
      "\t\t documentDate\n",
      "\t\t taxAmount\n",
      "\t\t taxRate\n",
      "\t\t receiverName\n",
      "\t\t receiverAddress\n",
      "\t\t receiverTaxId\n",
      "\t\t deliveryDate\n",
      "\t\t paymentTerms\n",
      "\t\t deliveryNoteNumber\n",
      "\t\t senderBankAccount\n",
      "\t\t senderAddress\n",
      "\t\t senderName\n",
      "\t\t dueDate\n",
      "\t\t discount\n",
      "\t\t barcode\n",
      "\tLine item fields:\n",
      "\t\t description\n",
      "\t\t netAmount\n",
      "\t\t quantity\n",
      "\t\t unitPrice\n",
      "\t\t materialNumber\n",
      "\t\t unitOfMeasure\n",
      "for 'paymentAdvice':\n",
      "\tHeader fields:\n",
      "\t\t documentNumber\n",
      "\t\t grossAmount\n",
      "\t\t currencyCode\n",
      "\t\t documentDate\n",
      "\t\t senderName\n",
      "\tLine item fields:\n",
      "\t\t netAmount\n",
      "\t\t documentNumber\n",
      "\t\t documentDate\n",
      "\t\t discountAmount\n",
      "\t\t deductionAmount\n"
     ]
    }
   ],
   "source": [
    "# Get the fields and document types that can be used\n",
    "capabilities = api_client.get_capabilities()\n",
    "data_types = capabilities['documentTypes']\n",
    "print('Available document types:', data_types)\n",
    "print('Available extraction fields:')\n",
    "for data_type in data_types:\n",
    "    print(f\"for '{data_type}':\")\n",
    "    print('\\tHeader fields:')\n",
    "    [print('\\t\\t', hf['name']) for hf in capabilities['extraction']['headerFields'] if (data_type in hf['supportedDocumentTypes'])]\n",
    "    print('\\tLine item fields:')\n",
    "    [print('\\t\\t', li['name']) for li in capabilities['extraction']['lineItemFields'] if (data_type in li['supportedDocumentTypes'])]"
   ]
  },
  {
   "cell_type": "markdown",
   "metadata": {},
   "source": [
    "# (optional) Create a Client"
   ]
  },
  {
   "cell_type": "markdown",
   "metadata": {},
   "source": [
    "To use Document Information Extraction, you need a client. This client is used to distinguish and separate data. You can create a new client if you wish to perform the information extraction with a separate client."
   ]
  },
  {
   "cell_type": "code",
   "execution_count": 15,
   "metadata": {
    "scrolled": true
   },
   "outputs": [
    {
     "data": {
      "text/plain": [
       "[{'clientId': 'default', 'clientName': 'Default'}]"
      ]
     },
     "execution_count": 15,
     "metadata": {},
     "output_type": "execute_result"
    }
   ],
   "source": [
    "# Check which clients exist for this tenant\n",
    "api_client.get_clients()"
   ]
  },
  {
   "cell_type": "code",
   "execution_count": 16,
   "metadata": {
    "scrolled": false
   },
   "outputs": [
    {
     "data": {
      "text/plain": [
       "{'inserted': 1, 'modified': 0}"
      ]
     },
     "execution_count": 16,
     "metadata": {},
     "output_type": "execute_result"
    }
   ],
   "source": [
    "# Create a new client with the id 'c_00' and name 'Client 00'\n",
    "api_client.create_client(client_id='c_00', client_name='Client 00')"
   ]
  },
  {
   "cell_type": "markdown",
   "metadata": {},
   "source": [
    "## Upload a document and retrieve the extracted result"
   ]
  },
  {
   "cell_type": "code",
   "execution_count": 17,
   "metadata": {},
   "outputs": [],
   "source": [
    "# Specify the fields that should be extracted\n",
    "header_fields = [\n",
    "         \"documentNumber\",\n",
    "         \"taxId\",\n",
    "         \"purchaseOrderNumber\",\n",
    "         \"shippingAmount\",\n",
    "         \"netAmount\",\n",
    "         \"senderAddress\",\n",
    "         \"senderName\",\n",
    "         \"grossAmount\",\n",
    "         \"currencyCode\",\n",
    "         \"receiverContact\",\n",
    "         \"documentDate\",\n",
    "         \"taxAmount\",\n",
    "         \"taxRate\",\n",
    "         \"receiverName\",\n",
    "         \"receiverAddress\"\n",
    "    ]\n",
    "line_item_fields = [\n",
    "         \"description\",\n",
    "         \"netAmount\",\n",
    "         \"quantity\",\n",
    "         \"unitPrice\",\n",
    "         \"materialNumber\"\n",
    "    ]\n",
    "\n",
    "# Extract information from invoice\n",
    "document_result = api_client.extract_information_from_document('sample-invoice-1.pdf', \n",
    "                                                               client_id='default', \n",
    "                                                               document_type='invoice', \n",
    "                                                               header_fields=header_fields, \n",
    "                                                               line_item_fields=line_item_fields)"
   ]
  },
  {
   "cell_type": "code",
   "execution_count": 18,
   "metadata": {
    "scrolled": false
   },
   "outputs": [
    {
     "name": "stdout",
     "output_type": "stream",
     "text": [
      "{\n",
      "  \"status\": \"DONE\",\n",
      "  \"id\": \"eba177fc-4544-4454-8ef2-589bed3fa375\",\n",
      "  \"fileName\": \"sample-invoice-1.pdf\",\n",
      "  \"documentType\": \"invoice\",\n",
      "  \"created\": \"2021-05-19T08:59:25.579722+00:00\",\n",
      "  \"finished\": \"2021-05-19T08:59:42.907702+00:00\",\n",
      "  \"country\": \"XX\",\n",
      "  \"extraction\": {\n",
      "    \"headerFields\": [\n",
      "      {\n",
      "        \"name\": \"taxAmount\",\n",
      "        \"category\": \"amounts\",\n",
      "        \"value\": 8.5,\n",
      "        \"rawValue\": \"8.50\",\n",
      "        \"type\": \"number\",\n",
      "        \"page\": 1,\n",
      "        \"confidence\": 0.996122169494629,\n",
      "        \"coordinates\": {\n",
      "          \"x\": 0.877305865287781,\n",
      "          \"y\": 0.481043368577957,\n",
      "          \"w\": 0.036465048789978,\n",
      "          \"h\": 0.00940248370170593\n",
      "        },\n",
      "        \"group\": 1\n",
      "      },\n",
      "      {\n",
      "        \"name\": \"documentNumber\",\n",
      "        \"category\": \"document\",\n",
      "        \"value\": \"INV-3337\",\n",
      "        \"rawValue\": \"INV-3337\",\n",
      "        \"type\": \"string\",\n",
      "        \"page\": 1,\n",
      "        \"confidence\": 0.99559623003006,\n",
      "        \"coordinates\": {\n",
      "          \"x\": 0.759330759330759,\n",
      "          \"y\": 0.13618441006976,\n",
      "          \"w\": 0.0617760617760618,\n",
      "          \"h\": 0.00788595693054292\n",
      "        }\n",
      "      },\n",
      "      {\n",
      "        \"name\": \"currencyCode\",\n",
      "        \"category\": \"amounts\",\n",
      "        \"value\": \"AUD\",\n",
      "        \"rawValue\": \"AUD\",\n",
      "        \"type\": \"string\",\n",
      "        \"page\": 1,\n",
      "        \"confidence\": 0.997213065624237,\n",
      "        \"coordinates\": {\n",
      "          \"x\": 0.0,\n",
      "          \"y\": 0.0,\n",
      "          \"w\": 0.0,\n",
      "          \"h\": 0.0\n",
      "        }\n",
      "      },\n",
      "      {\n",
      "        \"name\": \"receiverName\",\n",
      "        \"category\": \"receiver\",\n",
      "        \"value\": \"Test Business\",\n",
      "        \"rawValue\": \"Test Business\",\n",
      "        \"type\": \"string\",\n",
      "        \"page\": 1,\n",
      "        \"confidence\": 0.613637103512883,\n",
      "        \"coordinates\": {\n",
      "          \"x\": 0.0707850707850708,\n",
      "          \"y\": 0.287837427964816,\n",
      "          \"w\": 0.0926640926640926,\n",
      "          \"h\": 0.00818926296633304\n",
      "        }\n",
      "      },\n",
      "      {\n",
      "        \"name\": \"receiverAddress\",\n",
      "        \"category\": \"receiver\",\n",
      "        \"value\": \"123 Somewhere St Melbourne, VIC 3000\",\n",
      "        \"rawValue\": \"123 Somewhere St Melbourne, VIC 3000\",\n",
      "        \"type\": \"string\",\n",
      "        \"page\": 1,\n",
      "        \"confidence\": 0.583004051930634,\n",
      "        \"coordinates\": {\n",
      "          \"x\": 0.0720720720720721,\n",
      "          \"y\": 0.303002729754322,\n",
      "          \"w\": 0.138138138138138,\n",
      "          \"h\": 0.0251744009705793\n",
      "        }\n",
      "      },\n",
      "      {\n",
      "        \"name\": \"senderAddress\",\n",
      "        \"category\": \"sender\",\n",
      "        \"value\": \"Suite 5A-1204 123 Somewhere Street Your City AZ 12345\",\n",
      "        \"rawValue\": \"Suite 5A-1204 123 Somewhere Street Your City AZ 12345\",\n",
      "        \"type\": \"string\",\n",
      "        \"page\": 1,\n",
      "        \"confidence\": 0.600716656389515,\n",
      "        \"coordinates\": {\n",
      "          \"x\": 0.0712140712140712,\n",
      "          \"y\": 0.172277828328784,\n",
      "          \"w\": 0.151008151008151,\n",
      "          \"h\": 0.0403397027600849\n",
      "        }\n",
      "      },\n",
      "      {\n",
      "        \"name\": \"netAmount\",\n",
      "        \"category\": \"amounts\",\n",
      "        \"value\": 85.0,\n",
      "        \"rawValue\": \"$85.00\",\n",
      "        \"type\": \"number\",\n",
      "        \"page\": 1,\n",
      "        \"confidence\": 0.632092344206433,\n",
      "        \"coordinates\": {\n",
      "          \"x\": 0.869154869154869,\n",
      "          \"y\": 0.462238398544131,\n",
      "          \"w\": 0.045045045045045,\n",
      "          \"h\": 0.00970579314528358\n",
      "        }\n",
      "      },\n",
      "      {\n",
      "        \"name\": \"senderName\",\n",
      "        \"category\": \"sender\",\n",
      "        \"value\": \"Sliced Invoices\",\n",
      "        \"rawValue\": \"Sliced Invoices\",\n",
      "        \"type\": \"string\",\n",
      "        \"page\": 1,\n",
      "        \"confidence\": 0.615712552624089,\n",
      "        \"coordinates\": {\n",
      "          \"x\": 0.0703560703560704,\n",
      "          \"y\": 0.156202608431908,\n",
      "          \"w\": 0.1003861003861,\n",
      "          \"h\": 0.00849256900212314\n",
      "        }\n",
      "      },\n",
      "      {\n",
      "        \"name\": \"purchaseOrderNumber\",\n",
      "        \"category\": \"details\",\n",
      "        \"value\": \"12345\",\n",
      "        \"rawValue\": \"12345\",\n",
      "        \"type\": \"string\",\n",
      "        \"page\": 1,\n",
      "        \"confidence\": 0.0,\n",
      "        \"coordinates\": {\n",
      "          \"x\": 0.76018876018876,\n",
      "          \"y\": 0.155292690324537,\n",
      "          \"w\": 0.039039039039039,\n",
      "          \"h\": 0.00788595693054292\n",
      "        }\n",
      "      },\n",
      "      {\n",
      "        \"name\": \"grossAmount\",\n",
      "        \"category\": \"amounts\",\n",
      "        \"value\": 93.5,\n",
      "        \"rawValue\": \"$93.50\",\n",
      "        \"type\": \"number\",\n",
      "        \"page\": 1,\n",
      "        \"confidence\": 0.654064863017111,\n",
      "        \"coordinates\": {\n",
      "          \"x\": 0.86958386958387,\n",
      "          \"y\": 0.499848346982105,\n",
      "          \"w\": 0.0446160446160446,\n",
      "          \"h\": 0.00970579314528358\n",
      "        }\n",
      "      },\n",
      "      {\n",
      "        \"name\": \"documentDate\",\n",
      "        \"category\": \"document\",\n",
      "        \"value\": \"2016-01-25\",\n",
      "        \"rawValue\": \"January 25, 2016\",\n",
      "        \"type\": \"date\",\n",
      "        \"page\": 1,\n",
      "        \"confidence\": 0.985697042196989,\n",
      "        \"coordinates\": {\n",
      "          \"x\": 0.758901758901759,\n",
      "          \"y\": 0.173794358507734,\n",
      "          \"w\": 0.113685113685114,\n",
      "          \"h\": 0.0100090991810737\n",
      "        }\n",
      "      }\n",
      "    ],\n",
      "    \"lineItems\": [\n",
      "      [\n",
      "        {\n",
      "          \"name\": \"description\",\n",
      "          \"category\": \"details\",\n",
      "          \"value\": \"Web Design This is a sample description...\",\n",
      "          \"rawValue\": \"Web Design This is a sample description...\",\n",
      "          \"type\": \"string\",\n",
      "          \"page\": 1,\n",
      "          \"confidence\": 0.618856399913227,\n",
      "          \"coordinates\": {\n",
      "            \"x\": 0.171600171600172,\n",
      "            \"y\": 0.413406126781923,\n",
      "            \"w\": 0.174603174603175,\n",
      "            \"h\": 0.0221413406126782\n",
      "          }\n",
      "        },\n",
      "        {\n",
      "          \"name\": \"quantity\",\n",
      "          \"category\": \"details\",\n",
      "          \"value\": 1.0,\n",
      "          \"rawValue\": \"1.00\",\n",
      "          \"type\": \"number\",\n",
      "          \"page\": 1,\n",
      "          \"confidence\": 0.645257075627645,\n",
      "          \"coordinates\": {\n",
      "            \"x\": 0.101244101244101,\n",
      "            \"y\": 0.419472247497725,\n",
      "            \"w\": 0.0278850278850279,\n",
      "            \"h\": 0.00849256900212314\n",
      "          }\n",
      "        },\n",
      "        {\n",
      "          \"name\": \"netAmount\",\n",
      "          \"category\": \"amounts\",\n",
      "          \"value\": 85.0,\n",
      "          \"rawValue\": \"$85.00\",\n",
      "          \"type\": \"number\",\n",
      "          \"page\": 1,\n",
      "          \"confidence\": 0.631898905291702,\n",
      "          \"coordinates\": {\n",
      "            \"x\": 0.869154869154869,\n",
      "            \"y\": 0.419168941461935,\n",
      "            \"w\": 0.045045045045045,\n",
      "            \"h\": 0.00940248710949343\n",
      "          }\n",
      "        },\n",
      "        {\n",
      "          \"name\": \"unitPrice\",\n",
      "          \"category\": \"details\",\n",
      "          \"value\": 85.0,\n",
      "          \"rawValue\": \"$85.00\",\n",
      "          \"type\": \"number\",\n",
      "          \"page\": 1,\n",
      "          \"confidence\": 0.637235883510474,\n",
      "          \"coordinates\": {\n",
      "            \"x\": 0.61003861003861,\n",
      "            \"y\": 0.419168941461935,\n",
      "            \"w\": 0.0446160446160446,\n",
      "            \"h\": 0.00970579314528358\n",
      "          }\n",
      "        }\n",
      "      ]\n",
      "    ]\n",
      "  },\n",
      "  \"fileType\": \"pdf\",\n",
      "  \"dataForRetrainingStatus\": \"notUsedForTraining\"\n",
      "}\n"
     ]
    }
   ],
   "source": [
    "# Check the extracted data\n",
    "print(json.dumps(document_result, indent=2))"
   ]
  },
  {
   "cell_type": "code",
   "execution_count": 19,
   "metadata": {},
   "outputs": [],
   "source": [
    "from IPython.display import IFrame\n",
    "from fpdf import FPDF\n",
    "from PyPDF2 import PdfFileReader, PdfFileWriter\n",
    "import io\n",
    "def create_overlay(document_path, output_path):\n",
    "    input_pdf = PdfFileReader(document_path)\n",
    "    output_pdf = PdfFileWriter()\n",
    "    \n",
    "    pdf = FPDF(unit='pt')\n",
    "    pdf.set_font('Helvetica')\n",
    "    pdf.set_margins(0, 0)\n",
    "    pdf.set_draw_color(102, 255, 178)\n",
    "    pdf.set_line_width(1)\n",
    "    \n",
    "    for n in range(len(input_pdf.pages)):\n",
    "        input_page = input_pdf.getPage(n)\n",
    "        width = float(input_page.mediaBox.getWidth())\n",
    "        height = float(input_page.mediaBox.getHeight())\n",
    "        pdf.add_page(format=(width, height))\n",
    "        \n",
    "        for hf in (hf for hf in document_result['extraction']['headerFields'] if hf['page'] == n + 1):\n",
    "            x = hf['coordinates']['x']\n",
    "            y = hf['coordinates']['y']\n",
    "            w = hf['coordinates']['w']\n",
    "            h = hf['coordinates']['h']\n",
    "            pdf.rect(x * width, y * height, w * width, h * height)\n",
    "        for li in (li for line in document_result['extraction']['lineItems'] for li in line if li['page'] == n + 1):\n",
    "            x = li['coordinates']['x']\n",
    "            y = li['coordinates']['y']\n",
    "            w = li['coordinates']['w']\n",
    "            h = li['coordinates']['h']\n",
    "            pdf.rect(x * width, y * height, w * width, h * height)\n",
    "            \n",
    "    overlay = PdfFileReader(io.BytesIO(pdf.output()))\n",
    "    \n",
    "    for n in range(len(input_pdf.pages)):\n",
    "        page = input_pdf.getPage(n)\n",
    "        page.mergePage(overlay.getPage(n))\n",
    "        output_pdf.addPage(page)\n",
    "      \n",
    "    with open(output_path, 'wb') as out:\n",
    "        output_pdf.write(out)"
   ]
  },
  {
   "cell_type": "code",
   "execution_count": 20,
   "metadata": {},
   "outputs": [
    {
     "data": {
      "text/html": [
       "\n",
       "        <iframe\n",
       "            width=\"700\"\n",
       "            height=\"1000\"\n",
       "            src=\"output.pdf\"\n",
       "            frameborder=\"0\"\n",
       "            allowfullscreen\n",
       "        ></iframe>\n",
       "        "
      ],
      "text/plain": [
       "<IPython.lib.display.IFrame at 0x1d08d9d0730>"
      ]
     },
     "execution_count": 20,
     "metadata": {},
     "output_type": "execute_result"
    }
   ],
   "source": [
    "# Let's visualize the extraction results\n",
    "output_file = 'output.pdf'\n",
    "create_overlay('sample-invoice-1.pdf', output_file)\n",
    "\n",
    "IFrame(output_file, 700, 1000)"
   ]
  },
  {
   "cell_type": "markdown",
   "metadata": {},
   "source": [
    "## Upload Ground Truth"
   ]
  },
  {
   "cell_type": "markdown",
   "metadata": {},
   "source": [
    "Ground truth values can be uploaded to evaluate the results of the Document Information Extraction"
   ]
  },
  {
   "cell_type": "code",
   "execution_count": 21,
   "metadata": {},
   "outputs": [],
   "source": [
    "# Load ground truth values from json file\n",
    "with open('gt-sample-invoice-1.json') as ground_truth_file:\n",
    "    ground_truth = json.load(ground_truth_file)"
   ]
  },
  {
   "cell_type": "code",
   "execution_count": 22,
   "metadata": {},
   "outputs": [
    {
     "data": {
      "text/plain": [
       "{'status': 'DONE',\n",
       " 'message': 'Ground truth / corrected values uploaded successfully'}"
      ]
     },
     "execution_count": 22,
     "metadata": {},
     "output_type": "execute_result"
    }
   ],
   "source": [
    "# Add ground truth values to the uploaded invoice\n",
    "api_client.post_ground_truth_for_document(document_id=document_result['id'], ground_truth=ground_truth)"
   ]
  },
  {
   "cell_type": "code",
   "execution_count": null,
   "metadata": {},
   "outputs": [],
   "source": []
  }
 ],
 "metadata": {
  "kernelspec": {
   "display_name": "Python 3",
   "language": "python",
   "name": "python3"
  },
  "language_info": {
   "codemirror_mode": {
    "name": "ipython",
    "version": 3
   },
   "file_extension": ".py",
   "mimetype": "text/x-python",
   "name": "python",
   "nbconvert_exporter": "python",
   "pygments_lexer": "ipython3",
   "version": "3.8.3"
  }
 },
 "nbformat": 4,
 "nbformat_minor": 4
}
